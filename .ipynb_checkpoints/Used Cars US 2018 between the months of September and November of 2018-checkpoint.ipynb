{
 "cells": [
  {
   "cell_type": "markdown",
   "metadata": {},
   "source": [
    "### USED CARS DATASET\n",
    "\n",
    "Over a million and a half unique car postings between the months of September and November of 2018 (Craiglist)\n",
    "\n",
    "Data source: https://www.kaggle.com/austinreese/craigslist-carstrucks-data\n",
    "\n"
   ]
  },
  {
   "cell_type": "markdown",
   "metadata": {},
   "source": [
    "### Importing needed modules"
   ]
  },
  {
   "cell_type": "code",
   "execution_count": 1,
   "metadata": {},
   "outputs": [],
   "source": [
    "import pandas as pd\n",
    "import numpy as np\n",
    "import matplotlib.pyplot as plt\n",
    "import seaborn as sns; sns.set()\n",
    "#import geopandas as gpd\n",
    "\n",
    "#import squarify\n",
    "\n",
    "pd.set_option('display.max_columns', 100) #to see all colummns of Df"
   ]
  },
  {
   "cell_type": "markdown",
   "metadata": {},
   "source": [
    "### Reading file"
   ]
  },
  {
   "cell_type": "code",
   "execution_count": 2,
   "metadata": {},
   "outputs": [],
   "source": [
    "df = pd.read_csv('craigslistVehiclesFull.csv')"
   ]
  },
  {
   "cell_type": "markdown",
   "metadata": {},
   "source": [
    "### Exploring data"
   ]
  },
  {
   "cell_type": "code",
   "execution_count": 3,
   "metadata": {},
   "outputs": [
    {
     "data": {
      "text/html": [
       "<div>\n",
       "<style scoped>\n",
       "    .dataframe tbody tr th:only-of-type {\n",
       "        vertical-align: middle;\n",
       "    }\n",
       "\n",
       "    .dataframe tbody tr th {\n",
       "        vertical-align: top;\n",
       "    }\n",
       "\n",
       "    .dataframe thead th {\n",
       "        text-align: right;\n",
       "    }\n",
       "</style>\n",
       "<table border=\"1\" class=\"dataframe\">\n",
       "  <thead>\n",
       "    <tr style=\"text-align: right;\">\n",
       "      <th></th>\n",
       "      <th>url</th>\n",
       "      <th>city</th>\n",
       "      <th>price</th>\n",
       "      <th>year</th>\n",
       "      <th>manufacturer</th>\n",
       "      <th>make</th>\n",
       "      <th>condition</th>\n",
       "      <th>cylinders</th>\n",
       "      <th>fuel</th>\n",
       "      <th>odometer</th>\n",
       "      <th>title_status</th>\n",
       "      <th>transmission</th>\n",
       "      <th>vin</th>\n",
       "      <th>drive</th>\n",
       "      <th>size</th>\n",
       "      <th>type</th>\n",
       "      <th>paint_color</th>\n",
       "      <th>image_url</th>\n",
       "      <th>lat</th>\n",
       "      <th>long</th>\n",
       "      <th>county_fips</th>\n",
       "      <th>county_name</th>\n",
       "      <th>state_fips</th>\n",
       "      <th>state_code</th>\n",
       "      <th>state_name</th>\n",
       "      <th>weather</th>\n",
       "    </tr>\n",
       "  </thead>\n",
       "  <tbody>\n",
       "    <tr>\n",
       "      <th>0</th>\n",
       "      <td>https://marshall.craigslist.org/cto/d/2010-dod...</td>\n",
       "      <td>marshall</td>\n",
       "      <td>11900</td>\n",
       "      <td>2010.0</td>\n",
       "      <td>dodge</td>\n",
       "      <td>challenger se</td>\n",
       "      <td>good</td>\n",
       "      <td>6 cylinders</td>\n",
       "      <td>gas</td>\n",
       "      <td>43600.0</td>\n",
       "      <td>clean</td>\n",
       "      <td>automatic</td>\n",
       "      <td>NaN</td>\n",
       "      <td>rwd</td>\n",
       "      <td>NaN</td>\n",
       "      <td>coupe</td>\n",
       "      <td>red</td>\n",
       "      <td>https://images.craigslist.org/00i0i_2ggH1eKDNK...</td>\n",
       "      <td>43.477500</td>\n",
       "      <td>-96.704100</td>\n",
       "      <td>46083.0</td>\n",
       "      <td>Lincoln</td>\n",
       "      <td>46.0</td>\n",
       "      <td>SD</td>\n",
       "      <td>South Dakota</td>\n",
       "      <td>38.0</td>\n",
       "    </tr>\n",
       "    <tr>\n",
       "      <th>1</th>\n",
       "      <td>https://marshall.craigslist.org/cto/d/fleetwoo...</td>\n",
       "      <td>marshall</td>\n",
       "      <td>1515</td>\n",
       "      <td>1999.0</td>\n",
       "      <td>NaN</td>\n",
       "      <td>fleetwood</td>\n",
       "      <td>NaN</td>\n",
       "      <td>NaN</td>\n",
       "      <td>gas</td>\n",
       "      <td>NaN</td>\n",
       "      <td>clean</td>\n",
       "      <td>other</td>\n",
       "      <td>NaN</td>\n",
       "      <td>NaN</td>\n",
       "      <td>NaN</td>\n",
       "      <td>NaN</td>\n",
       "      <td>NaN</td>\n",
       "      <td>https://images.craigslist.org/00M0M_irjh7SjEcU...</td>\n",
       "      <td>44.761200</td>\n",
       "      <td>-96.690700</td>\n",
       "      <td>46039.0</td>\n",
       "      <td>Deuel</td>\n",
       "      <td>46.0</td>\n",
       "      <td>SD</td>\n",
       "      <td>South Dakota</td>\n",
       "      <td>38.0</td>\n",
       "    </tr>\n",
       "    <tr>\n",
       "      <th>2</th>\n",
       "      <td>https://marshall.craigslist.org/cto/d/2008-for...</td>\n",
       "      <td>marshall</td>\n",
       "      <td>17550</td>\n",
       "      <td>2008.0</td>\n",
       "      <td>ford</td>\n",
       "      <td>f-150</td>\n",
       "      <td>NaN</td>\n",
       "      <td>NaN</td>\n",
       "      <td>gas</td>\n",
       "      <td>NaN</td>\n",
       "      <td>clean</td>\n",
       "      <td>automatic</td>\n",
       "      <td>NaN</td>\n",
       "      <td>NaN</td>\n",
       "      <td>NaN</td>\n",
       "      <td>NaN</td>\n",
       "      <td>NaN</td>\n",
       "      <td>https://images.craigslist.org/00s0s_eL2XFhEUcx...</td>\n",
       "      <td>44.141500</td>\n",
       "      <td>-103.205200</td>\n",
       "      <td>46093.0</td>\n",
       "      <td>Meade</td>\n",
       "      <td>46.0</td>\n",
       "      <td>SD</td>\n",
       "      <td>South Dakota</td>\n",
       "      <td>38.0</td>\n",
       "    </tr>\n",
       "    <tr>\n",
       "      <th>3</th>\n",
       "      <td>https://marshall.craigslist.org/cto/d/ford-tau...</td>\n",
       "      <td>marshall</td>\n",
       "      <td>2800</td>\n",
       "      <td>2004.0</td>\n",
       "      <td>ford</td>\n",
       "      <td>taurus</td>\n",
       "      <td>good</td>\n",
       "      <td>6 cylinders</td>\n",
       "      <td>gas</td>\n",
       "      <td>168591.0</td>\n",
       "      <td>clean</td>\n",
       "      <td>automatic</td>\n",
       "      <td>1FAFP55UO4G113464</td>\n",
       "      <td>fwd</td>\n",
       "      <td>full-size</td>\n",
       "      <td>sedan</td>\n",
       "      <td>grey</td>\n",
       "      <td>https://images.craigslist.org/00L0L_5HUR1nQjt8...</td>\n",
       "      <td>43.284500</td>\n",
       "      <td>-95.593000</td>\n",
       "      <td>19143.0</td>\n",
       "      <td>Osceola</td>\n",
       "      <td>19.0</td>\n",
       "      <td>IA</td>\n",
       "      <td>Iowa</td>\n",
       "      <td>47.0</td>\n",
       "    </tr>\n",
       "    <tr>\n",
       "      <th>4</th>\n",
       "      <td>https://marshall.craigslist.org/cto/d/2001-gra...</td>\n",
       "      <td>marshall</td>\n",
       "      <td>400</td>\n",
       "      <td>2001.0</td>\n",
       "      <td>NaN</td>\n",
       "      <td>2001 Grand Prix</td>\n",
       "      <td>NaN</td>\n",
       "      <td>NaN</td>\n",
       "      <td>gas</td>\n",
       "      <td>217000.0</td>\n",
       "      <td>clean</td>\n",
       "      <td>automatic</td>\n",
       "      <td>NaN</td>\n",
       "      <td>NaN</td>\n",
       "      <td>NaN</td>\n",
       "      <td>NaN</td>\n",
       "      <td>NaN</td>\n",
       "      <td>https://images.craigslist.org/00n0n_bJJ1XnonSG...</td>\n",
       "      <td>43.026100</td>\n",
       "      <td>-94.406400</td>\n",
       "      <td>19109.0</td>\n",
       "      <td>Kossuth</td>\n",
       "      <td>19.0</td>\n",
       "      <td>IA</td>\n",
       "      <td>Iowa</td>\n",
       "      <td>47.0</td>\n",
       "    </tr>\n",
       "    <tr>\n",
       "      <th>5</th>\n",
       "      <td>https://marshall.craigslist.org/ctd/d/2007-gmc...</td>\n",
       "      <td>marshall</td>\n",
       "      <td>9900</td>\n",
       "      <td>2007.0</td>\n",
       "      <td>gmc</td>\n",
       "      <td>yukon</td>\n",
       "      <td>good</td>\n",
       "      <td>8 cylinders</td>\n",
       "      <td>gas</td>\n",
       "      <td>169000.0</td>\n",
       "      <td>clean</td>\n",
       "      <td>automatic</td>\n",
       "      <td>NaN</td>\n",
       "      <td>4wd</td>\n",
       "      <td>NaN</td>\n",
       "      <td>NaN</td>\n",
       "      <td>NaN</td>\n",
       "      <td>https://images.craigslist.org/00T0T_hFLz9hAHi0...</td>\n",
       "      <td>43.328149</td>\n",
       "      <td>-96.774445</td>\n",
       "      <td>46083.0</td>\n",
       "      <td>Lincoln</td>\n",
       "      <td>46.0</td>\n",
       "      <td>SD</td>\n",
       "      <td>South Dakota</td>\n",
       "      <td>38.0</td>\n",
       "    </tr>\n",
       "    <tr>\n",
       "      <th>6</th>\n",
       "      <td>https://marshall.craigslist.org/cto/d/2015-jee...</td>\n",
       "      <td>marshall</td>\n",
       "      <td>12500</td>\n",
       "      <td>2015.0</td>\n",
       "      <td>jeep</td>\n",
       "      <td>patriot high altitude</td>\n",
       "      <td>like new</td>\n",
       "      <td>4 cylinders</td>\n",
       "      <td>gas</td>\n",
       "      <td>39500.0</td>\n",
       "      <td>rebuilt</td>\n",
       "      <td>automatic</td>\n",
       "      <td>NaN</td>\n",
       "      <td>4wd</td>\n",
       "      <td>sub-compact</td>\n",
       "      <td>SUV</td>\n",
       "      <td>grey</td>\n",
       "      <td>https://images.craigslist.org/00404_RsUm4vwrGV...</td>\n",
       "      <td>43.548600</td>\n",
       "      <td>-96.633200</td>\n",
       "      <td>46099.0</td>\n",
       "      <td>Minnehaha</td>\n",
       "      <td>46.0</td>\n",
       "      <td>SD</td>\n",
       "      <td>South Dakota</td>\n",
       "      <td>38.0</td>\n",
       "    </tr>\n",
       "    <tr>\n",
       "      <th>7</th>\n",
       "      <td>https://marshall.craigslist.org/ctd/d/2008-bmw...</td>\n",
       "      <td>marshall</td>\n",
       "      <td>3900</td>\n",
       "      <td>2008.0</td>\n",
       "      <td>bmw</td>\n",
       "      <td>3 series</td>\n",
       "      <td>NaN</td>\n",
       "      <td>NaN</td>\n",
       "      <td>gas</td>\n",
       "      <td>0.0</td>\n",
       "      <td>clean</td>\n",
       "      <td>NaN</td>\n",
       "      <td>WBAVA37508NL47474</td>\n",
       "      <td>NaN</td>\n",
       "      <td>NaN</td>\n",
       "      <td>NaN</td>\n",
       "      <td>NaN</td>\n",
       "      <td>https://images.craigslist.org/00202_8ciATrWst3...</td>\n",
       "      <td>41.622572</td>\n",
       "      <td>-87.632656</td>\n",
       "      <td>17031.0</td>\n",
       "      <td>Cook</td>\n",
       "      <td>17.0</td>\n",
       "      <td>IL</td>\n",
       "      <td>Illinois</td>\n",
       "      <td>48.0</td>\n",
       "    </tr>\n",
       "    <tr>\n",
       "      <th>8</th>\n",
       "      <td>https://soo.craigslist.ca/cto/d/ebike-red-zone...</td>\n",
       "      <td>soo</td>\n",
       "      <td>2700</td>\n",
       "      <td>2018.0</td>\n",
       "      <td>NaN</td>\n",
       "      <td>Ebike</td>\n",
       "      <td>excellent</td>\n",
       "      <td>NaN</td>\n",
       "      <td>electric</td>\n",
       "      <td>NaN</td>\n",
       "      <td>clean</td>\n",
       "      <td>other</td>\n",
       "      <td>NaN</td>\n",
       "      <td>NaN</td>\n",
       "      <td>mid-size</td>\n",
       "      <td>NaN</td>\n",
       "      <td>red</td>\n",
       "      <td>https://images.craigslist.org/01111_7YfxuQ9Nxu...</td>\n",
       "      <td>46.509803</td>\n",
       "      <td>-84.257825</td>\n",
       "      <td>NaN</td>\n",
       "      <td>NaN</td>\n",
       "      <td>NaN</td>\n",
       "      <td>NaN</td>\n",
       "      <td>FAILED</td>\n",
       "      <td>NaN</td>\n",
       "    </tr>\n",
       "    <tr>\n",
       "      <th>9</th>\n",
       "      <td>https://soo.craigslist.ca/ctd/d/2003-ford-excu...</td>\n",
       "      <td>soo</td>\n",
       "      <td>12995</td>\n",
       "      <td>2003.0</td>\n",
       "      <td>ford</td>\n",
       "      <td>excursion</td>\n",
       "      <td>excellent</td>\n",
       "      <td>10 cylinders</td>\n",
       "      <td>gas</td>\n",
       "      <td>236000.0</td>\n",
       "      <td>clean</td>\n",
       "      <td>automatic</td>\n",
       "      <td>1FMNU41S43EB95265</td>\n",
       "      <td>4wd</td>\n",
       "      <td>NaN</td>\n",
       "      <td>SUV</td>\n",
       "      <td>blue</td>\n",
       "      <td>https://images.craigslist.org/00707_97tX51ryfc...</td>\n",
       "      <td>46.514191</td>\n",
       "      <td>-84.291307</td>\n",
       "      <td>NaN</td>\n",
       "      <td>NaN</td>\n",
       "      <td>NaN</td>\n",
       "      <td>NaN</td>\n",
       "      <td>FAILED</td>\n",
       "      <td>NaN</td>\n",
       "    </tr>\n",
       "  </tbody>\n",
       "</table>\n",
       "</div>"
      ],
      "text/plain": [
       "                                                 url      city  price    year  \\\n",
       "0  https://marshall.craigslist.org/cto/d/2010-dod...  marshall  11900  2010.0   \n",
       "1  https://marshall.craigslist.org/cto/d/fleetwoo...  marshall   1515  1999.0   \n",
       "2  https://marshall.craigslist.org/cto/d/2008-for...  marshall  17550  2008.0   \n",
       "3  https://marshall.craigslist.org/cto/d/ford-tau...  marshall   2800  2004.0   \n",
       "4  https://marshall.craigslist.org/cto/d/2001-gra...  marshall    400  2001.0   \n",
       "5  https://marshall.craigslist.org/ctd/d/2007-gmc...  marshall   9900  2007.0   \n",
       "6  https://marshall.craigslist.org/cto/d/2015-jee...  marshall  12500  2015.0   \n",
       "7  https://marshall.craigslist.org/ctd/d/2008-bmw...  marshall   3900  2008.0   \n",
       "8  https://soo.craigslist.ca/cto/d/ebike-red-zone...       soo   2700  2018.0   \n",
       "9  https://soo.craigslist.ca/ctd/d/2003-ford-excu...       soo  12995  2003.0   \n",
       "\n",
       "  manufacturer                   make  condition     cylinders      fuel  \\\n",
       "0        dodge          challenger se       good   6 cylinders       gas   \n",
       "1          NaN              fleetwood        NaN           NaN       gas   \n",
       "2         ford                  f-150        NaN           NaN       gas   \n",
       "3         ford                 taurus       good   6 cylinders       gas   \n",
       "4          NaN        2001 Grand Prix        NaN           NaN       gas   \n",
       "5          gmc                  yukon       good   8 cylinders       gas   \n",
       "6         jeep  patriot high altitude   like new   4 cylinders       gas   \n",
       "7          bmw               3 series        NaN           NaN       gas   \n",
       "8          NaN                  Ebike  excellent           NaN  electric   \n",
       "9         ford              excursion  excellent  10 cylinders       gas   \n",
       "\n",
       "   odometer title_status transmission                vin drive         size  \\\n",
       "0   43600.0        clean    automatic                NaN   rwd          NaN   \n",
       "1       NaN        clean        other                NaN   NaN          NaN   \n",
       "2       NaN        clean    automatic                NaN   NaN          NaN   \n",
       "3  168591.0        clean    automatic  1FAFP55UO4G113464   fwd    full-size   \n",
       "4  217000.0        clean    automatic                NaN   NaN          NaN   \n",
       "5  169000.0        clean    automatic                NaN   4wd          NaN   \n",
       "6   39500.0      rebuilt    automatic                NaN   4wd  sub-compact   \n",
       "7       0.0        clean          NaN  WBAVA37508NL47474   NaN          NaN   \n",
       "8       NaN        clean        other                NaN   NaN     mid-size   \n",
       "9  236000.0        clean    automatic  1FMNU41S43EB95265   4wd          NaN   \n",
       "\n",
       "    type paint_color                                          image_url  \\\n",
       "0  coupe         red  https://images.craigslist.org/00i0i_2ggH1eKDNK...   \n",
       "1    NaN         NaN  https://images.craigslist.org/00M0M_irjh7SjEcU...   \n",
       "2    NaN         NaN  https://images.craigslist.org/00s0s_eL2XFhEUcx...   \n",
       "3  sedan        grey  https://images.craigslist.org/00L0L_5HUR1nQjt8...   \n",
       "4    NaN         NaN  https://images.craigslist.org/00n0n_bJJ1XnonSG...   \n",
       "5    NaN         NaN  https://images.craigslist.org/00T0T_hFLz9hAHi0...   \n",
       "6    SUV        grey  https://images.craigslist.org/00404_RsUm4vwrGV...   \n",
       "7    NaN         NaN  https://images.craigslist.org/00202_8ciATrWst3...   \n",
       "8    NaN         red  https://images.craigslist.org/01111_7YfxuQ9Nxu...   \n",
       "9    SUV        blue  https://images.craigslist.org/00707_97tX51ryfc...   \n",
       "\n",
       "         lat        long  county_fips county_name  state_fips state_code  \\\n",
       "0  43.477500  -96.704100      46083.0     Lincoln        46.0         SD   \n",
       "1  44.761200  -96.690700      46039.0       Deuel        46.0         SD   \n",
       "2  44.141500 -103.205200      46093.0       Meade        46.0         SD   \n",
       "3  43.284500  -95.593000      19143.0     Osceola        19.0         IA   \n",
       "4  43.026100  -94.406400      19109.0     Kossuth        19.0         IA   \n",
       "5  43.328149  -96.774445      46083.0     Lincoln        46.0         SD   \n",
       "6  43.548600  -96.633200      46099.0   Minnehaha        46.0         SD   \n",
       "7  41.622572  -87.632656      17031.0        Cook        17.0         IL   \n",
       "8  46.509803  -84.257825          NaN         NaN         NaN        NaN   \n",
       "9  46.514191  -84.291307          NaN         NaN         NaN        NaN   \n",
       "\n",
       "     state_name  weather  \n",
       "0  South Dakota     38.0  \n",
       "1  South Dakota     38.0  \n",
       "2  South Dakota     38.0  \n",
       "3          Iowa     47.0  \n",
       "4          Iowa     47.0  \n",
       "5  South Dakota     38.0  \n",
       "6  South Dakota     38.0  \n",
       "7      Illinois     48.0  \n",
       "8        FAILED      NaN  \n",
       "9        FAILED      NaN  "
      ]
     },
     "execution_count": 3,
     "metadata": {},
     "output_type": "execute_result"
    }
   ],
   "source": [
    "df.head(10)"
   ]
  },
  {
   "cell_type": "markdown",
   "metadata": {},
   "source": [
    "### Keeping only needed data\n",
    "I consider to be needed for my analysis"
   ]
  },
  {
   "cell_type": "code",
   "execution_count": 4,
   "metadata": {},
   "outputs": [
    {
     "data": {
      "text/html": [
       "<div>\n",
       "<style scoped>\n",
       "    .dataframe tbody tr th:only-of-type {\n",
       "        vertical-align: middle;\n",
       "    }\n",
       "\n",
       "    .dataframe tbody tr th {\n",
       "        vertical-align: top;\n",
       "    }\n",
       "\n",
       "    .dataframe thead th {\n",
       "        text-align: right;\n",
       "    }\n",
       "</style>\n",
       "<table border=\"1\" class=\"dataframe\">\n",
       "  <thead>\n",
       "    <tr style=\"text-align: right;\">\n",
       "      <th></th>\n",
       "      <th>city</th>\n",
       "      <th>price</th>\n",
       "      <th>year</th>\n",
       "      <th>manufacturer</th>\n",
       "      <th>cylinders</th>\n",
       "      <th>fuel</th>\n",
       "      <th>odometer</th>\n",
       "      <th>transmission</th>\n",
       "      <th>paint_color</th>\n",
       "      <th>county_name</th>\n",
       "      <th>state_name</th>\n",
       "    </tr>\n",
       "  </thead>\n",
       "  <tbody>\n",
       "    <tr>\n",
       "      <th>0</th>\n",
       "      <td>marshall</td>\n",
       "      <td>11900</td>\n",
       "      <td>2010.0</td>\n",
       "      <td>dodge</td>\n",
       "      <td>6 cylinders</td>\n",
       "      <td>gas</td>\n",
       "      <td>43600.0</td>\n",
       "      <td>automatic</td>\n",
       "      <td>red</td>\n",
       "      <td>Lincoln</td>\n",
       "      <td>South Dakota</td>\n",
       "    </tr>\n",
       "    <tr>\n",
       "      <th>1</th>\n",
       "      <td>marshall</td>\n",
       "      <td>1515</td>\n",
       "      <td>1999.0</td>\n",
       "      <td>NaN</td>\n",
       "      <td>NaN</td>\n",
       "      <td>gas</td>\n",
       "      <td>NaN</td>\n",
       "      <td>other</td>\n",
       "      <td>NaN</td>\n",
       "      <td>Deuel</td>\n",
       "      <td>South Dakota</td>\n",
       "    </tr>\n",
       "    <tr>\n",
       "      <th>2</th>\n",
       "      <td>marshall</td>\n",
       "      <td>17550</td>\n",
       "      <td>2008.0</td>\n",
       "      <td>ford</td>\n",
       "      <td>NaN</td>\n",
       "      <td>gas</td>\n",
       "      <td>NaN</td>\n",
       "      <td>automatic</td>\n",
       "      <td>NaN</td>\n",
       "      <td>Meade</td>\n",
       "      <td>South Dakota</td>\n",
       "    </tr>\n",
       "    <tr>\n",
       "      <th>3</th>\n",
       "      <td>marshall</td>\n",
       "      <td>2800</td>\n",
       "      <td>2004.0</td>\n",
       "      <td>ford</td>\n",
       "      <td>6 cylinders</td>\n",
       "      <td>gas</td>\n",
       "      <td>168591.0</td>\n",
       "      <td>automatic</td>\n",
       "      <td>grey</td>\n",
       "      <td>Osceola</td>\n",
       "      <td>Iowa</td>\n",
       "    </tr>\n",
       "    <tr>\n",
       "      <th>4</th>\n",
       "      <td>marshall</td>\n",
       "      <td>400</td>\n",
       "      <td>2001.0</td>\n",
       "      <td>NaN</td>\n",
       "      <td>NaN</td>\n",
       "      <td>gas</td>\n",
       "      <td>217000.0</td>\n",
       "      <td>automatic</td>\n",
       "      <td>NaN</td>\n",
       "      <td>Kossuth</td>\n",
       "      <td>Iowa</td>\n",
       "    </tr>\n",
       "  </tbody>\n",
       "</table>\n",
       "</div>"
      ],
      "text/plain": [
       "       city  price    year manufacturer    cylinders fuel  odometer  \\\n",
       "0  marshall  11900  2010.0        dodge  6 cylinders  gas   43600.0   \n",
       "1  marshall   1515  1999.0          NaN          NaN  gas       NaN   \n",
       "2  marshall  17550  2008.0         ford          NaN  gas       NaN   \n",
       "3  marshall   2800  2004.0         ford  6 cylinders  gas  168591.0   \n",
       "4  marshall    400  2001.0          NaN          NaN  gas  217000.0   \n",
       "\n",
       "  transmission paint_color county_name    state_name  \n",
       "0    automatic         red     Lincoln  South Dakota  \n",
       "1        other         NaN       Deuel  South Dakota  \n",
       "2    automatic         NaN       Meade  South Dakota  \n",
       "3    automatic        grey     Osceola          Iowa  \n",
       "4    automatic         NaN     Kossuth          Iowa  "
      ]
     },
     "execution_count": 4,
     "metadata": {},
     "output_type": "execute_result"
    }
   ],
   "source": [
    "df = df[['city','price','year','manufacturer','cylinders','fuel','odometer','transmission','paint_color','county_name','state_name' ]]\n",
    "df.head()"
   ]
  },
  {
   "cell_type": "markdown",
   "metadata": {},
   "source": [
    "### What are date types of this df?"
   ]
  },
  {
   "cell_type": "code",
   "execution_count": 5,
   "metadata": {},
   "outputs": [
    {
     "data": {
      "text/plain": [
       "city             object\n",
       "price             int64\n",
       "year            float64\n",
       "manufacturer     object\n",
       "cylinders        object\n",
       "fuel             object\n",
       "odometer        float64\n",
       "transmission     object\n",
       "paint_color      object\n",
       "county_name      object\n",
       "state_name       object\n",
       "dtype: object"
      ]
     },
     "execution_count": 5,
     "metadata": {},
     "output_type": "execute_result"
    }
   ],
   "source": [
    "df.dtypes"
   ]
  },
  {
   "cell_type": "markdown",
   "metadata": {},
   "source": [
    "- Most data is categorical, nominal (City, Manufacturer, Transmission, cylinders,paint_color, county_name, state_name)\n",
    "- The rest is numumerical, continuous (Price, Year, Odometer)"
   ]
  },
  {
   "cell_type": "markdown",
   "metadata": {},
   "source": [
    "### How big is dataset?"
   ]
  },
  {
   "cell_type": "code",
   "execution_count": 6,
   "metadata": {},
   "outputs": [
    {
     "data": {
      "text/plain": [
       "(1723065, 11)"
      ]
     },
     "execution_count": 6,
     "metadata": {},
     "output_type": "execute_result"
    }
   ],
   "source": [
    "df.shape"
   ]
  },
  {
   "cell_type": "markdown",
   "metadata": {},
   "source": [
    "### 1,723,065 cars"
   ]
  },
  {
   "cell_type": "markdown",
   "metadata": {},
   "source": [
    "### Checking for missing data?"
   ]
  },
  {
   "cell_type": "code",
   "execution_count": 7,
   "metadata": {
    "scrolled": true
   },
   "outputs": [
    {
     "data": {
      "text/plain": [
       "city                 0\n",
       "price                0\n",
       "year              6315\n",
       "manufacturer    136414\n",
       "cylinders       691291\n",
       "fuel             10367\n",
       "odometer        564054\n",
       "transmission      9022\n",
       "paint_color     695650\n",
       "county_name      58833\n",
       "state_name           0\n",
       "dtype: int64"
      ]
     },
     "execution_count": 7,
     "metadata": {},
     "output_type": "execute_result"
    }
   ],
   "source": [
    "df.isnull().sum()"
   ]
  },
  {
   "cell_type": "markdown",
   "metadata": {},
   "source": [
    "### What to do with missing values?"
   ]
  },
  {
   "cell_type": "code",
   "execution_count": 8,
   "metadata": {},
   "outputs": [],
   "source": [
    "df = df.dropna(subset=['year','manufacturer'])"
   ]
  },
  {
   "cell_type": "code",
   "execution_count": 9,
   "metadata": {},
   "outputs": [
    {
     "data": {
      "text/plain": [
       "(1581344, 11)"
      ]
     },
     "execution_count": 9,
     "metadata": {},
     "output_type": "execute_result"
    }
   ],
   "source": [
    "df.shape"
   ]
  },
  {
   "cell_type": "markdown",
   "metadata": {},
   "source": [
    "Removed instances with missing values of Year & Manufacturer. Why? Because this data is crucial in predicting price of car\n",
    "\n",
    "#### Dataset of 1,581,344 cars left"
   ]
  },
  {
   "cell_type": "markdown",
   "metadata": {},
   "source": [
    "### Removing duplicates if any? Any Corrupted Data?"
   ]
  },
  {
   "cell_type": "code",
   "execution_count": 10,
   "metadata": {},
   "outputs": [
    {
     "data": {
      "text/html": [
       "<div>\n",
       "<style scoped>\n",
       "    .dataframe tbody tr th:only-of-type {\n",
       "        vertical-align: middle;\n",
       "    }\n",
       "\n",
       "    .dataframe tbody tr th {\n",
       "        vertical-align: top;\n",
       "    }\n",
       "\n",
       "    .dataframe thead th {\n",
       "        text-align: right;\n",
       "    }\n",
       "</style>\n",
       "<table border=\"1\" class=\"dataframe\">\n",
       "  <thead>\n",
       "    <tr style=\"text-align: right;\">\n",
       "      <th></th>\n",
       "      <th>city</th>\n",
       "      <th>price</th>\n",
       "      <th>year</th>\n",
       "      <th>manufacturer</th>\n",
       "      <th>cylinders</th>\n",
       "      <th>fuel</th>\n",
       "      <th>odometer</th>\n",
       "      <th>transmission</th>\n",
       "      <th>paint_color</th>\n",
       "      <th>county_name</th>\n",
       "      <th>state_name</th>\n",
       "    </tr>\n",
       "  </thead>\n",
       "  <tbody>\n",
       "    <tr>\n",
       "      <th>85</th>\n",
       "      <td>whistler</td>\n",
       "      <td>26880</td>\n",
       "      <td>2016.0</td>\n",
       "      <td>chrysler</td>\n",
       "      <td>NaN</td>\n",
       "      <td>gas</td>\n",
       "      <td>49000.0</td>\n",
       "      <td>automatic</td>\n",
       "      <td>NaN</td>\n",
       "      <td>NaN</td>\n",
       "      <td>FAILED</td>\n",
       "    </tr>\n",
       "    <tr>\n",
       "      <th>87</th>\n",
       "      <td>whistler</td>\n",
       "      <td>17990</td>\n",
       "      <td>2010.0</td>\n",
       "      <td>toyota</td>\n",
       "      <td>NaN</td>\n",
       "      <td>hybrid</td>\n",
       "      <td>117000.0</td>\n",
       "      <td>automatic</td>\n",
       "      <td>NaN</td>\n",
       "      <td>NaN</td>\n",
       "      <td>FAILED</td>\n",
       "    </tr>\n",
       "    <tr>\n",
       "      <th>88</th>\n",
       "      <td>whistler</td>\n",
       "      <td>15890</td>\n",
       "      <td>2010.0</td>\n",
       "      <td>audi</td>\n",
       "      <td>NaN</td>\n",
       "      <td>gas</td>\n",
       "      <td>188000.0</td>\n",
       "      <td>automatic</td>\n",
       "      <td>NaN</td>\n",
       "      <td>NaN</td>\n",
       "      <td>FAILED</td>\n",
       "    </tr>\n",
       "    <tr>\n",
       "      <th>90</th>\n",
       "      <td>whistler</td>\n",
       "      <td>8800</td>\n",
       "      <td>2007.0</td>\n",
       "      <td>nissan</td>\n",
       "      <td>NaN</td>\n",
       "      <td>gas</td>\n",
       "      <td>163000.0</td>\n",
       "      <td>automatic</td>\n",
       "      <td>NaN</td>\n",
       "      <td>NaN</td>\n",
       "      <td>FAILED</td>\n",
       "    </tr>\n",
       "    <tr>\n",
       "      <th>93</th>\n",
       "      <td>whistler</td>\n",
       "      <td>13890</td>\n",
       "      <td>2014.0</td>\n",
       "      <td>subaru</td>\n",
       "      <td>NaN</td>\n",
       "      <td>gas</td>\n",
       "      <td>78000.0</td>\n",
       "      <td>automatic</td>\n",
       "      <td>NaN</td>\n",
       "      <td>NaN</td>\n",
       "      <td>FAILED</td>\n",
       "    </tr>\n",
       "    <tr>\n",
       "      <th>95</th>\n",
       "      <td>whistler</td>\n",
       "      <td>18990</td>\n",
       "      <td>2010.0</td>\n",
       "      <td>audi</td>\n",
       "      <td>NaN</td>\n",
       "      <td>gas</td>\n",
       "      <td>152000.0</td>\n",
       "      <td>automatic</td>\n",
       "      <td>NaN</td>\n",
       "      <td>NaN</td>\n",
       "      <td>FAILED</td>\n",
       "    </tr>\n",
       "    <tr>\n",
       "      <th>232</th>\n",
       "      <td>hat</td>\n",
       "      <td>41989</td>\n",
       "      <td>2016.0</td>\n",
       "      <td>gmc</td>\n",
       "      <td>8 cylinders</td>\n",
       "      <td>gas</td>\n",
       "      <td>49243.0</td>\n",
       "      <td>automatic</td>\n",
       "      <td>silver</td>\n",
       "      <td>NaN</td>\n",
       "      <td>FAILED</td>\n",
       "    </tr>\n",
       "    <tr>\n",
       "      <th>264</th>\n",
       "      <td>nd</td>\n",
       "      <td>1000</td>\n",
       "      <td>2006.0</td>\n",
       "      <td>acura</td>\n",
       "      <td>NaN</td>\n",
       "      <td>gas</td>\n",
       "      <td>NaN</td>\n",
       "      <td>automatic</td>\n",
       "      <td>NaN</td>\n",
       "      <td>McLean</td>\n",
       "      <td>North Dakota</td>\n",
       "    </tr>\n",
       "    <tr>\n",
       "      <th>291</th>\n",
       "      <td>nd</td>\n",
       "      <td>13000</td>\n",
       "      <td>2011.0</td>\n",
       "      <td>honda</td>\n",
       "      <td>NaN</td>\n",
       "      <td>gas</td>\n",
       "      <td>NaN</td>\n",
       "      <td>automatic</td>\n",
       "      <td>NaN</td>\n",
       "      <td>Mountrail</td>\n",
       "      <td>North Dakota</td>\n",
       "    </tr>\n",
       "    <tr>\n",
       "      <th>335</th>\n",
       "      <td>csd</td>\n",
       "      <td>24900</td>\n",
       "      <td>1967.0</td>\n",
       "      <td>chevy</td>\n",
       "      <td>NaN</td>\n",
       "      <td>gas</td>\n",
       "      <td>NaN</td>\n",
       "      <td>manual</td>\n",
       "      <td>NaN</td>\n",
       "      <td>Kendall</td>\n",
       "      <td>Illinois</td>\n",
       "    </tr>\n",
       "    <tr>\n",
       "      <th>646</th>\n",
       "      <td>lakecharles</td>\n",
       "      <td>8500</td>\n",
       "      <td>1961.0</td>\n",
       "      <td>chevy</td>\n",
       "      <td>4 cylinders</td>\n",
       "      <td>gas</td>\n",
       "      <td>NaN</td>\n",
       "      <td>manual</td>\n",
       "      <td>brown</td>\n",
       "      <td>Harris</td>\n",
       "      <td>Texas</td>\n",
       "    </tr>\n",
       "    <tr>\n",
       "      <th>647</th>\n",
       "      <td>lakecharles</td>\n",
       "      <td>8500</td>\n",
       "      <td>1961.0</td>\n",
       "      <td>chevy</td>\n",
       "      <td>4 cylinders</td>\n",
       "      <td>gas</td>\n",
       "      <td>NaN</td>\n",
       "      <td>manual</td>\n",
       "      <td>brown</td>\n",
       "      <td>Harris</td>\n",
       "      <td>Texas</td>\n",
       "    </tr>\n",
       "    <tr>\n",
       "      <th>648</th>\n",
       "      <td>lakecharles</td>\n",
       "      <td>8500</td>\n",
       "      <td>1961.0</td>\n",
       "      <td>chevy</td>\n",
       "      <td>4 cylinders</td>\n",
       "      <td>gas</td>\n",
       "      <td>NaN</td>\n",
       "      <td>manual</td>\n",
       "      <td>brown</td>\n",
       "      <td>Harris</td>\n",
       "      <td>Texas</td>\n",
       "    </tr>\n",
       "    <tr>\n",
       "      <th>671</th>\n",
       "      <td>lakecharles</td>\n",
       "      <td>12500</td>\n",
       "      <td>2015.0</td>\n",
       "      <td>nissan</td>\n",
       "      <td>4 cylinders</td>\n",
       "      <td>gas</td>\n",
       "      <td>NaN</td>\n",
       "      <td>automatic</td>\n",
       "      <td>brown</td>\n",
       "      <td>Harris</td>\n",
       "      <td>Texas</td>\n",
       "    </tr>\n",
       "    <tr>\n",
       "      <th>674</th>\n",
       "      <td>showlow</td>\n",
       "      <td>25000</td>\n",
       "      <td>2001.0</td>\n",
       "      <td>gmc</td>\n",
       "      <td>NaN</td>\n",
       "      <td>diesel</td>\n",
       "      <td>NaN</td>\n",
       "      <td>manual</td>\n",
       "      <td>NaN</td>\n",
       "      <td>Los Angeles</td>\n",
       "      <td>California</td>\n",
       "    </tr>\n",
       "    <tr>\n",
       "      <th>675</th>\n",
       "      <td>showlow</td>\n",
       "      <td>25000</td>\n",
       "      <td>2001.0</td>\n",
       "      <td>gmc</td>\n",
       "      <td>NaN</td>\n",
       "      <td>diesel</td>\n",
       "      <td>NaN</td>\n",
       "      <td>manual</td>\n",
       "      <td>NaN</td>\n",
       "      <td>Los Angeles</td>\n",
       "      <td>California</td>\n",
       "    </tr>\n",
       "    <tr>\n",
       "      <th>738</th>\n",
       "      <td>lethbridge</td>\n",
       "      <td>41989</td>\n",
       "      <td>2016.0</td>\n",
       "      <td>gmc</td>\n",
       "      <td>8 cylinders</td>\n",
       "      <td>gas</td>\n",
       "      <td>49243.0</td>\n",
       "      <td>automatic</td>\n",
       "      <td>silver</td>\n",
       "      <td>NaN</td>\n",
       "      <td>FAILED</td>\n",
       "    </tr>\n",
       "    <tr>\n",
       "      <th>739</th>\n",
       "      <td>lethbridge</td>\n",
       "      <td>32995</td>\n",
       "      <td>2015.0</td>\n",
       "      <td>buick</td>\n",
       "      <td>6 cylinders</td>\n",
       "      <td>gas</td>\n",
       "      <td>50857.0</td>\n",
       "      <td>automatic</td>\n",
       "      <td>brown</td>\n",
       "      <td>NaN</td>\n",
       "      <td>FAILED</td>\n",
       "    </tr>\n",
       "    <tr>\n",
       "      <th>775</th>\n",
       "      <td>youngstown</td>\n",
       "      <td>9000</td>\n",
       "      <td>2005.0</td>\n",
       "      <td>chevy</td>\n",
       "      <td>NaN</td>\n",
       "      <td>gas</td>\n",
       "      <td>NaN</td>\n",
       "      <td>automatic</td>\n",
       "      <td>NaN</td>\n",
       "      <td>Mercer</td>\n",
       "      <td>Pennsylvania</td>\n",
       "    </tr>\n",
       "    <tr>\n",
       "      <th>975</th>\n",
       "      <td>baltimore</td>\n",
       "      <td>3500</td>\n",
       "      <td>2006.0</td>\n",
       "      <td>ford</td>\n",
       "      <td>4 cylinders</td>\n",
       "      <td>gas</td>\n",
       "      <td>142000.0</td>\n",
       "      <td>automatic</td>\n",
       "      <td>red</td>\n",
       "      <td>Fairfax</td>\n",
       "      <td>Virginia</td>\n",
       "    </tr>\n",
       "    <tr>\n",
       "      <th>1280</th>\n",
       "      <td>edmonton</td>\n",
       "      <td>15000</td>\n",
       "      <td>1990.0</td>\n",
       "      <td>nissan</td>\n",
       "      <td>NaN</td>\n",
       "      <td>gas</td>\n",
       "      <td>127000.0</td>\n",
       "      <td>manual</td>\n",
       "      <td>NaN</td>\n",
       "      <td>NaN</td>\n",
       "      <td>FAILED</td>\n",
       "    </tr>\n",
       "    <tr>\n",
       "      <th>1283</th>\n",
       "      <td>edmonton</td>\n",
       "      <td>15000</td>\n",
       "      <td>1990.0</td>\n",
       "      <td>nissan</td>\n",
       "      <td>NaN</td>\n",
       "      <td>gas</td>\n",
       "      <td>127000.0</td>\n",
       "      <td>manual</td>\n",
       "      <td>NaN</td>\n",
       "      <td>NaN</td>\n",
       "      <td>FAILED</td>\n",
       "    </tr>\n",
       "    <tr>\n",
       "      <th>1431</th>\n",
       "      <td>natchez</td>\n",
       "      <td>1</td>\n",
       "      <td>2015.0</td>\n",
       "      <td>dodge</td>\n",
       "      <td>8 cylinders</td>\n",
       "      <td>gas</td>\n",
       "      <td>20.0</td>\n",
       "      <td>automatic</td>\n",
       "      <td>red</td>\n",
       "      <td>Escambia</td>\n",
       "      <td>Florida</td>\n",
       "    </tr>\n",
       "    <tr>\n",
       "      <th>1434</th>\n",
       "      <td>natchez</td>\n",
       "      <td>1</td>\n",
       "      <td>2015.0</td>\n",
       "      <td>dodge</td>\n",
       "      <td>8 cylinders</td>\n",
       "      <td>gas</td>\n",
       "      <td>20.0</td>\n",
       "      <td>automatic</td>\n",
       "      <td>red</td>\n",
       "      <td>Escambia</td>\n",
       "      <td>Florida</td>\n",
       "    </tr>\n",
       "    <tr>\n",
       "      <th>1753</th>\n",
       "      <td>clovis</td>\n",
       "      <td>5300</td>\n",
       "      <td>1999.0</td>\n",
       "      <td>chevy</td>\n",
       "      <td>6 cylinders</td>\n",
       "      <td>gas</td>\n",
       "      <td>NaN</td>\n",
       "      <td>automatic</td>\n",
       "      <td>green</td>\n",
       "      <td>Roosevelt</td>\n",
       "      <td>New Mexico</td>\n",
       "    </tr>\n",
       "    <tr>\n",
       "      <th>1794</th>\n",
       "      <td>philadelphia</td>\n",
       "      <td>5299</td>\n",
       "      <td>2010.0</td>\n",
       "      <td>chrysler</td>\n",
       "      <td>NaN</td>\n",
       "      <td>gas</td>\n",
       "      <td>NaN</td>\n",
       "      <td>automatic</td>\n",
       "      <td>NaN</td>\n",
       "      <td>Mercer</td>\n",
       "      <td>New Jersey</td>\n",
       "    </tr>\n",
       "    <tr>\n",
       "      <th>2032</th>\n",
       "      <td>providence</td>\n",
       "      <td>3300</td>\n",
       "      <td>2007.0</td>\n",
       "      <td>pontiac</td>\n",
       "      <td>6 cylinders</td>\n",
       "      <td>gas</td>\n",
       "      <td>NaN</td>\n",
       "      <td>automatic</td>\n",
       "      <td>NaN</td>\n",
       "      <td>Providence</td>\n",
       "      <td>Rhode Island</td>\n",
       "    </tr>\n",
       "    <tr>\n",
       "      <th>2234</th>\n",
       "      <td>providence</td>\n",
       "      <td>1600</td>\n",
       "      <td>2003.0</td>\n",
       "      <td>honda</td>\n",
       "      <td>4 cylinders</td>\n",
       "      <td>gas</td>\n",
       "      <td>180000.0</td>\n",
       "      <td>automatic</td>\n",
       "      <td>NaN</td>\n",
       "      <td>Providence</td>\n",
       "      <td>Rhode Island</td>\n",
       "    </tr>\n",
       "    <tr>\n",
       "      <th>2327</th>\n",
       "      <td>providence</td>\n",
       "      <td>1600</td>\n",
       "      <td>2003.0</td>\n",
       "      <td>honda</td>\n",
       "      <td>4 cylinders</td>\n",
       "      <td>gas</td>\n",
       "      <td>180000.0</td>\n",
       "      <td>automatic</td>\n",
       "      <td>NaN</td>\n",
       "      <td>Providence</td>\n",
       "      <td>Rhode Island</td>\n",
       "    </tr>\n",
       "    <tr>\n",
       "      <th>2368</th>\n",
       "      <td>providence</td>\n",
       "      <td>3300</td>\n",
       "      <td>2007.0</td>\n",
       "      <td>pontiac</td>\n",
       "      <td>6 cylinders</td>\n",
       "      <td>gas</td>\n",
       "      <td>NaN</td>\n",
       "      <td>automatic</td>\n",
       "      <td>NaN</td>\n",
       "      <td>Providence</td>\n",
       "      <td>Rhode Island</td>\n",
       "    </tr>\n",
       "    <tr>\n",
       "      <th>...</th>\n",
       "      <td>...</td>\n",
       "      <td>...</td>\n",
       "      <td>...</td>\n",
       "      <td>...</td>\n",
       "      <td>...</td>\n",
       "      <td>...</td>\n",
       "      <td>...</td>\n",
       "      <td>...</td>\n",
       "      <td>...</td>\n",
       "      <td>...</td>\n",
       "      <td>...</td>\n",
       "    </tr>\n",
       "    <tr>\n",
       "      <th>1722876</th>\n",
       "      <td>kelowna</td>\n",
       "      <td>47880</td>\n",
       "      <td>2016.0</td>\n",
       "      <td>nissan</td>\n",
       "      <td>8 cylinders</td>\n",
       "      <td>gas</td>\n",
       "      <td>43502.0</td>\n",
       "      <td>automatic</td>\n",
       "      <td>white</td>\n",
       "      <td>NaN</td>\n",
       "      <td>FAILED</td>\n",
       "    </tr>\n",
       "    <tr>\n",
       "      <th>1722877</th>\n",
       "      <td>kelowna</td>\n",
       "      <td>27780</td>\n",
       "      <td>2014.0</td>\n",
       "      <td>ram</td>\n",
       "      <td>6 cylinders</td>\n",
       "      <td>gas</td>\n",
       "      <td>50540.0</td>\n",
       "      <td>automatic</td>\n",
       "      <td>black</td>\n",
       "      <td>NaN</td>\n",
       "      <td>FAILED</td>\n",
       "    </tr>\n",
       "    <tr>\n",
       "      <th>1722878</th>\n",
       "      <td>kelowna</td>\n",
       "      <td>20980</td>\n",
       "      <td>2015.0</td>\n",
       "      <td>gmc</td>\n",
       "      <td>4 cylinders</td>\n",
       "      <td>gas</td>\n",
       "      <td>40937.0</td>\n",
       "      <td>automatic</td>\n",
       "      <td>black</td>\n",
       "      <td>NaN</td>\n",
       "      <td>FAILED</td>\n",
       "    </tr>\n",
       "    <tr>\n",
       "      <th>1722879</th>\n",
       "      <td>kelowna</td>\n",
       "      <td>33980</td>\n",
       "      <td>2015.0</td>\n",
       "      <td>nissan</td>\n",
       "      <td>8 cylinders</td>\n",
       "      <td>gas</td>\n",
       "      <td>113715.0</td>\n",
       "      <td>automatic</td>\n",
       "      <td>white</td>\n",
       "      <td>NaN</td>\n",
       "      <td>FAILED</td>\n",
       "    </tr>\n",
       "    <tr>\n",
       "      <th>1722880</th>\n",
       "      <td>kelowna</td>\n",
       "      <td>23880</td>\n",
       "      <td>2016.0</td>\n",
       "      <td>nissan</td>\n",
       "      <td>4 cylinders</td>\n",
       "      <td>gas</td>\n",
       "      <td>66492.0</td>\n",
       "      <td>automatic</td>\n",
       "      <td>silver</td>\n",
       "      <td>NaN</td>\n",
       "      <td>FAILED</td>\n",
       "    </tr>\n",
       "    <tr>\n",
       "      <th>1722881</th>\n",
       "      <td>kelowna</td>\n",
       "      <td>7990</td>\n",
       "      <td>2001.0</td>\n",
       "      <td>ford</td>\n",
       "      <td>10 cylinders</td>\n",
       "      <td>gas</td>\n",
       "      <td>233835.0</td>\n",
       "      <td>automatic</td>\n",
       "      <td>black</td>\n",
       "      <td>NaN</td>\n",
       "      <td>FAILED</td>\n",
       "    </tr>\n",
       "    <tr>\n",
       "      <th>1722882</th>\n",
       "      <td>kelowna</td>\n",
       "      <td>6580</td>\n",
       "      <td>2006.0</td>\n",
       "      <td>ford</td>\n",
       "      <td>6 cylinders</td>\n",
       "      <td>gas</td>\n",
       "      <td>159809.0</td>\n",
       "      <td>manual</td>\n",
       "      <td>black</td>\n",
       "      <td>NaN</td>\n",
       "      <td>FAILED</td>\n",
       "    </tr>\n",
       "    <tr>\n",
       "      <th>1722883</th>\n",
       "      <td>kelowna</td>\n",
       "      <td>16780</td>\n",
       "      <td>2011.0</td>\n",
       "      <td>chevrolet</td>\n",
       "      <td>6 cylinders</td>\n",
       "      <td>gas</td>\n",
       "      <td>47500.0</td>\n",
       "      <td>automatic</td>\n",
       "      <td>grey</td>\n",
       "      <td>NaN</td>\n",
       "      <td>FAILED</td>\n",
       "    </tr>\n",
       "    <tr>\n",
       "      <th>1722884</th>\n",
       "      <td>kelowna</td>\n",
       "      <td>42780</td>\n",
       "      <td>2018.0</td>\n",
       "      <td>nissan</td>\n",
       "      <td>6 cylinders</td>\n",
       "      <td>gas</td>\n",
       "      <td>5491.0</td>\n",
       "      <td>automatic</td>\n",
       "      <td>blue</td>\n",
       "      <td>NaN</td>\n",
       "      <td>FAILED</td>\n",
       "    </tr>\n",
       "    <tr>\n",
       "      <th>1722885</th>\n",
       "      <td>kelowna</td>\n",
       "      <td>13880</td>\n",
       "      <td>2010.0</td>\n",
       "      <td>ford</td>\n",
       "      <td>6 cylinders</td>\n",
       "      <td>gas</td>\n",
       "      <td>146642.0</td>\n",
       "      <td>automatic</td>\n",
       "      <td>black</td>\n",
       "      <td>NaN</td>\n",
       "      <td>FAILED</td>\n",
       "    </tr>\n",
       "    <tr>\n",
       "      <th>1722886</th>\n",
       "      <td>kelowna</td>\n",
       "      <td>35780</td>\n",
       "      <td>2016.0</td>\n",
       "      <td>nissan</td>\n",
       "      <td>6 cylinders</td>\n",
       "      <td>gas</td>\n",
       "      <td>24095.0</td>\n",
       "      <td>automatic</td>\n",
       "      <td>grey</td>\n",
       "      <td>NaN</td>\n",
       "      <td>FAILED</td>\n",
       "    </tr>\n",
       "    <tr>\n",
       "      <th>1722887</th>\n",
       "      <td>kelowna</td>\n",
       "      <td>5580</td>\n",
       "      <td>2005.0</td>\n",
       "      <td>gmc</td>\n",
       "      <td>6 cylinders</td>\n",
       "      <td>gas</td>\n",
       "      <td>270255.0</td>\n",
       "      <td>automatic</td>\n",
       "      <td>grey</td>\n",
       "      <td>NaN</td>\n",
       "      <td>FAILED</td>\n",
       "    </tr>\n",
       "    <tr>\n",
       "      <th>1722888</th>\n",
       "      <td>kelowna</td>\n",
       "      <td>6780</td>\n",
       "      <td>2007.0</td>\n",
       "      <td>kia</td>\n",
       "      <td>6 cylinders</td>\n",
       "      <td>gas</td>\n",
       "      <td>216600.0</td>\n",
       "      <td>automatic</td>\n",
       "      <td>red</td>\n",
       "      <td>NaN</td>\n",
       "      <td>FAILED</td>\n",
       "    </tr>\n",
       "    <tr>\n",
       "      <th>1722891</th>\n",
       "      <td>kelowna</td>\n",
       "      <td>14000</td>\n",
       "      <td>2013.0</td>\n",
       "      <td>mazda</td>\n",
       "      <td>4 cylinders</td>\n",
       "      <td>gas</td>\n",
       "      <td>48473.0</td>\n",
       "      <td>automatic</td>\n",
       "      <td>grey</td>\n",
       "      <td>NaN</td>\n",
       "      <td>FAILED</td>\n",
       "    </tr>\n",
       "    <tr>\n",
       "      <th>1722898</th>\n",
       "      <td>kelowna</td>\n",
       "      <td>9500</td>\n",
       "      <td>2004.0</td>\n",
       "      <td>infiniti</td>\n",
       "      <td>6 cylinders</td>\n",
       "      <td>gas</td>\n",
       "      <td>103500.0</td>\n",
       "      <td>automatic</td>\n",
       "      <td>grey</td>\n",
       "      <td>NaN</td>\n",
       "      <td>FAILED</td>\n",
       "    </tr>\n",
       "    <tr>\n",
       "      <th>1722930</th>\n",
       "      <td>winstonsalem</td>\n",
       "      <td>14850</td>\n",
       "      <td>2010.0</td>\n",
       "      <td>ford</td>\n",
       "      <td>NaN</td>\n",
       "      <td>gas</td>\n",
       "      <td>NaN</td>\n",
       "      <td>automatic</td>\n",
       "      <td>NaN</td>\n",
       "      <td>Forsyth</td>\n",
       "      <td>North Carolina</td>\n",
       "    </tr>\n",
       "    <tr>\n",
       "      <th>1722935</th>\n",
       "      <td>binghamton</td>\n",
       "      <td>8000</td>\n",
       "      <td>1983.0</td>\n",
       "      <td>ford</td>\n",
       "      <td>8 cylinders</td>\n",
       "      <td>gas</td>\n",
       "      <td>74139.0</td>\n",
       "      <td>manual</td>\n",
       "      <td>red</td>\n",
       "      <td>Oneida</td>\n",
       "      <td>New York</td>\n",
       "    </tr>\n",
       "    <tr>\n",
       "      <th>1722938</th>\n",
       "      <td>binghamton</td>\n",
       "      <td>3700</td>\n",
       "      <td>2005.0</td>\n",
       "      <td>lexus</td>\n",
       "      <td>6 cylinders</td>\n",
       "      <td>gas</td>\n",
       "      <td>NaN</td>\n",
       "      <td>automatic</td>\n",
       "      <td>white</td>\n",
       "      <td>Broome</td>\n",
       "      <td>New York</td>\n",
       "    </tr>\n",
       "    <tr>\n",
       "      <th>1722946</th>\n",
       "      <td>lincoln</td>\n",
       "      <td>20750</td>\n",
       "      <td>2003.0</td>\n",
       "      <td>ford</td>\n",
       "      <td>8 cylinders</td>\n",
       "      <td>diesel</td>\n",
       "      <td>74009.0</td>\n",
       "      <td>automatic</td>\n",
       "      <td>white</td>\n",
       "      <td>Lancaster</td>\n",
       "      <td>Nebraska</td>\n",
       "    </tr>\n",
       "    <tr>\n",
       "      <th>1722955</th>\n",
       "      <td>northmiss</td>\n",
       "      <td>2300</td>\n",
       "      <td>1996.0</td>\n",
       "      <td>toyota</td>\n",
       "      <td>4 cylinders</td>\n",
       "      <td>gas</td>\n",
       "      <td>NaN</td>\n",
       "      <td>automatic</td>\n",
       "      <td>NaN</td>\n",
       "      <td>Panola</td>\n",
       "      <td>Mississippi</td>\n",
       "    </tr>\n",
       "    <tr>\n",
       "      <th>1722986</th>\n",
       "      <td>reddeer</td>\n",
       "      <td>19995</td>\n",
       "      <td>2010.0</td>\n",
       "      <td>ford</td>\n",
       "      <td>8 cylinders</td>\n",
       "      <td>gas</td>\n",
       "      <td>113942.0</td>\n",
       "      <td>automatic</td>\n",
       "      <td>white</td>\n",
       "      <td>NaN</td>\n",
       "      <td>FAILED</td>\n",
       "    </tr>\n",
       "    <tr>\n",
       "      <th>1722992</th>\n",
       "      <td>reddeer</td>\n",
       "      <td>32995</td>\n",
       "      <td>2015.0</td>\n",
       "      <td>buick</td>\n",
       "      <td>6 cylinders</td>\n",
       "      <td>gas</td>\n",
       "      <td>50857.0</td>\n",
       "      <td>automatic</td>\n",
       "      <td>brown</td>\n",
       "      <td>NaN</td>\n",
       "      <td>FAILED</td>\n",
       "    </tr>\n",
       "    <tr>\n",
       "      <th>1722993</th>\n",
       "      <td>reddeer</td>\n",
       "      <td>32995</td>\n",
       "      <td>2015.0</td>\n",
       "      <td>buick</td>\n",
       "      <td>6 cylinders</td>\n",
       "      <td>gas</td>\n",
       "      <td>50857.0</td>\n",
       "      <td>automatic</td>\n",
       "      <td>brown</td>\n",
       "      <td>NaN</td>\n",
       "      <td>FAILED</td>\n",
       "    </tr>\n",
       "    <tr>\n",
       "      <th>1722995</th>\n",
       "      <td>reddeer</td>\n",
       "      <td>32995</td>\n",
       "      <td>2015.0</td>\n",
       "      <td>buick</td>\n",
       "      <td>6 cylinders</td>\n",
       "      <td>gas</td>\n",
       "      <td>50857.0</td>\n",
       "      <td>automatic</td>\n",
       "      <td>brown</td>\n",
       "      <td>NaN</td>\n",
       "      <td>FAILED</td>\n",
       "    </tr>\n",
       "    <tr>\n",
       "      <th>1723008</th>\n",
       "      <td>reddeer</td>\n",
       "      <td>7500</td>\n",
       "      <td>2004.0</td>\n",
       "      <td>ford</td>\n",
       "      <td>8 cylinders</td>\n",
       "      <td>gas</td>\n",
       "      <td>282000.0</td>\n",
       "      <td>automatic</td>\n",
       "      <td>black</td>\n",
       "      <td>NaN</td>\n",
       "      <td>FAILED</td>\n",
       "    </tr>\n",
       "    <tr>\n",
       "      <th>1723017</th>\n",
       "      <td>sandusky</td>\n",
       "      <td>2850</td>\n",
       "      <td>2004.0</td>\n",
       "      <td>mazda</td>\n",
       "      <td>8 cylinders</td>\n",
       "      <td>gas</td>\n",
       "      <td>55000.0</td>\n",
       "      <td>manual</td>\n",
       "      <td>silver</td>\n",
       "      <td>St. Clair</td>\n",
       "      <td>Michigan</td>\n",
       "    </tr>\n",
       "    <tr>\n",
       "      <th>1723035</th>\n",
       "      <td>westky</td>\n",
       "      <td>9500</td>\n",
       "      <td>1946.0</td>\n",
       "      <td>dodge</td>\n",
       "      <td>NaN</td>\n",
       "      <td>gas</td>\n",
       "      <td>NaN</td>\n",
       "      <td>automatic</td>\n",
       "      <td>NaN</td>\n",
       "      <td>Obion</td>\n",
       "      <td>Tennessee</td>\n",
       "    </tr>\n",
       "    <tr>\n",
       "      <th>1723057</th>\n",
       "      <td>marshall</td>\n",
       "      <td>33000</td>\n",
       "      <td>1957.0</td>\n",
       "      <td>chevy</td>\n",
       "      <td>8 cylinders</td>\n",
       "      <td>gas</td>\n",
       "      <td>11000.0</td>\n",
       "      <td>manual</td>\n",
       "      <td>red</td>\n",
       "      <td>Monmouth</td>\n",
       "      <td>New Jersey</td>\n",
       "    </tr>\n",
       "    <tr>\n",
       "      <th>1723058</th>\n",
       "      <td>marshall</td>\n",
       "      <td>33000</td>\n",
       "      <td>1957.0</td>\n",
       "      <td>chevy</td>\n",
       "      <td>8 cylinders</td>\n",
       "      <td>gas</td>\n",
       "      <td>11000.0</td>\n",
       "      <td>manual</td>\n",
       "      <td>red</td>\n",
       "      <td>Monmouth</td>\n",
       "      <td>New Jersey</td>\n",
       "    </tr>\n",
       "    <tr>\n",
       "      <th>1723062</th>\n",
       "      <td>marshall</td>\n",
       "      <td>1500</td>\n",
       "      <td>2007.0</td>\n",
       "      <td>volkswagen</td>\n",
       "      <td>NaN</td>\n",
       "      <td>gas</td>\n",
       "      <td>0.0</td>\n",
       "      <td>automatic</td>\n",
       "      <td>NaN</td>\n",
       "      <td>Cook</td>\n",
       "      <td>Illinois</td>\n",
       "    </tr>\n",
       "  </tbody>\n",
       "</table>\n",
       "<p>220796 rows × 11 columns</p>\n",
       "</div>"
      ],
      "text/plain": [
       "             city  price    year manufacturer    cylinders    fuel  odometer  \\\n",
       "85       whistler  26880  2016.0     chrysler          NaN     gas   49000.0   \n",
       "87       whistler  17990  2010.0       toyota          NaN  hybrid  117000.0   \n",
       "88       whistler  15890  2010.0         audi          NaN     gas  188000.0   \n",
       "90       whistler   8800  2007.0       nissan          NaN     gas  163000.0   \n",
       "93       whistler  13890  2014.0       subaru          NaN     gas   78000.0   \n",
       "...           ...    ...     ...          ...          ...     ...       ...   \n",
       "1723017  sandusky   2850  2004.0        mazda  8 cylinders     gas   55000.0   \n",
       "1723035    westky   9500  1946.0        dodge          NaN     gas       NaN   \n",
       "1723057  marshall  33000  1957.0        chevy  8 cylinders     gas   11000.0   \n",
       "1723058  marshall  33000  1957.0        chevy  8 cylinders     gas   11000.0   \n",
       "1723062  marshall   1500  2007.0   volkswagen          NaN     gas       0.0   \n",
       "\n",
       "        transmission paint_color county_name  state_name  \n",
       "85         automatic         NaN         NaN      FAILED  \n",
       "87         automatic         NaN         NaN      FAILED  \n",
       "88         automatic         NaN         NaN      FAILED  \n",
       "90         automatic         NaN         NaN      FAILED  \n",
       "93         automatic         NaN         NaN      FAILED  \n",
       "...              ...         ...         ...         ...  \n",
       "1723017       manual      silver   St. Clair    Michigan  \n",
       "1723035    automatic         NaN       Obion   Tennessee  \n",
       "1723057       manual         red    Monmouth  New Jersey  \n",
       "1723058       manual         red    Monmouth  New Jersey  \n",
       "1723062    automatic         NaN        Cook    Illinois  \n",
       "\n",
       "[220796 rows x 11 columns]"
      ]
     },
     "execution_count": 10,
     "metadata": {},
     "output_type": "execute_result"
    }
   ],
   "source": [
    "df[df.duplicated(['city','price','year','odometer','manufacturer','cylinders','transmission','paint_color','county_name','state_name'])]"
   ]
  },
  {
   "cell_type": "markdown",
   "metadata": {},
   "source": [
    "Are these duplicate values? Drop duplicates"
   ]
  },
  {
   "cell_type": "code",
   "execution_count": 11,
   "metadata": {},
   "outputs": [
    {
     "data": {
      "text/plain": [
       "(1581344, 11)"
      ]
     },
     "execution_count": 11,
     "metadata": {},
     "output_type": "execute_result"
    }
   ],
   "source": [
    "df.shape"
   ]
  },
  {
   "cell_type": "code",
   "execution_count": 12,
   "metadata": {},
   "outputs": [
    {
     "data": {
      "text/html": [
       "<div>\n",
       "<style scoped>\n",
       "    .dataframe tbody tr th:only-of-type {\n",
       "        vertical-align: middle;\n",
       "    }\n",
       "\n",
       "    .dataframe tbody tr th {\n",
       "        vertical-align: top;\n",
       "    }\n",
       "\n",
       "    .dataframe thead th {\n",
       "        text-align: right;\n",
       "    }\n",
       "</style>\n",
       "<table border=\"1\" class=\"dataframe\">\n",
       "  <thead>\n",
       "    <tr style=\"text-align: right;\">\n",
       "      <th></th>\n",
       "      <th>city</th>\n",
       "      <th>price</th>\n",
       "      <th>year</th>\n",
       "      <th>manufacturer</th>\n",
       "      <th>cylinders</th>\n",
       "      <th>fuel</th>\n",
       "      <th>odometer</th>\n",
       "      <th>transmission</th>\n",
       "      <th>paint_color</th>\n",
       "      <th>county_name</th>\n",
       "      <th>state_name</th>\n",
       "    </tr>\n",
       "  </thead>\n",
       "  <tbody>\n",
       "    <tr>\n",
       "      <th>0</th>\n",
       "      <td>marshall</td>\n",
       "      <td>11900</td>\n",
       "      <td>2010.0</td>\n",
       "      <td>dodge</td>\n",
       "      <td>6 cylinders</td>\n",
       "      <td>gas</td>\n",
       "      <td>43600.0</td>\n",
       "      <td>automatic</td>\n",
       "      <td>red</td>\n",
       "      <td>Lincoln</td>\n",
       "      <td>South Dakota</td>\n",
       "    </tr>\n",
       "    <tr>\n",
       "      <th>2</th>\n",
       "      <td>marshall</td>\n",
       "      <td>17550</td>\n",
       "      <td>2008.0</td>\n",
       "      <td>ford</td>\n",
       "      <td>NaN</td>\n",
       "      <td>gas</td>\n",
       "      <td>NaN</td>\n",
       "      <td>automatic</td>\n",
       "      <td>NaN</td>\n",
       "      <td>Meade</td>\n",
       "      <td>South Dakota</td>\n",
       "    </tr>\n",
       "    <tr>\n",
       "      <th>3</th>\n",
       "      <td>marshall</td>\n",
       "      <td>2800</td>\n",
       "      <td>2004.0</td>\n",
       "      <td>ford</td>\n",
       "      <td>6 cylinders</td>\n",
       "      <td>gas</td>\n",
       "      <td>168591.0</td>\n",
       "      <td>automatic</td>\n",
       "      <td>grey</td>\n",
       "      <td>Osceola</td>\n",
       "      <td>Iowa</td>\n",
       "    </tr>\n",
       "    <tr>\n",
       "      <th>5</th>\n",
       "      <td>marshall</td>\n",
       "      <td>9900</td>\n",
       "      <td>2007.0</td>\n",
       "      <td>gmc</td>\n",
       "      <td>8 cylinders</td>\n",
       "      <td>gas</td>\n",
       "      <td>169000.0</td>\n",
       "      <td>automatic</td>\n",
       "      <td>NaN</td>\n",
       "      <td>Lincoln</td>\n",
       "      <td>South Dakota</td>\n",
       "    </tr>\n",
       "    <tr>\n",
       "      <th>6</th>\n",
       "      <td>marshall</td>\n",
       "      <td>12500</td>\n",
       "      <td>2015.0</td>\n",
       "      <td>jeep</td>\n",
       "      <td>4 cylinders</td>\n",
       "      <td>gas</td>\n",
       "      <td>39500.0</td>\n",
       "      <td>automatic</td>\n",
       "      <td>grey</td>\n",
       "      <td>Minnehaha</td>\n",
       "      <td>South Dakota</td>\n",
       "    </tr>\n",
       "    <tr>\n",
       "      <th>7</th>\n",
       "      <td>marshall</td>\n",
       "      <td>3900</td>\n",
       "      <td>2008.0</td>\n",
       "      <td>bmw</td>\n",
       "      <td>NaN</td>\n",
       "      <td>gas</td>\n",
       "      <td>0.0</td>\n",
       "      <td>NaN</td>\n",
       "      <td>NaN</td>\n",
       "      <td>Cook</td>\n",
       "      <td>Illinois</td>\n",
       "    </tr>\n",
       "    <tr>\n",
       "      <th>9</th>\n",
       "      <td>soo</td>\n",
       "      <td>12995</td>\n",
       "      <td>2003.0</td>\n",
       "      <td>ford</td>\n",
       "      <td>10 cylinders</td>\n",
       "      <td>gas</td>\n",
       "      <td>236000.0</td>\n",
       "      <td>automatic</td>\n",
       "      <td>blue</td>\n",
       "      <td>NaN</td>\n",
       "      <td>FAILED</td>\n",
       "    </tr>\n",
       "    <tr>\n",
       "      <th>10</th>\n",
       "      <td>soo</td>\n",
       "      <td>4000</td>\n",
       "      <td>2006.0</td>\n",
       "      <td>chev</td>\n",
       "      <td>6 cylinders</td>\n",
       "      <td>gas</td>\n",
       "      <td>138000.0</td>\n",
       "      <td>automatic</td>\n",
       "      <td>white</td>\n",
       "      <td>NaN</td>\n",
       "      <td>FAILED</td>\n",
       "    </tr>\n",
       "    <tr>\n",
       "      <th>11</th>\n",
       "      <td>soo</td>\n",
       "      <td>13000</td>\n",
       "      <td>2002.0</td>\n",
       "      <td>chevrolet</td>\n",
       "      <td>8 cylinders</td>\n",
       "      <td>diesel</td>\n",
       "      <td>350000.0</td>\n",
       "      <td>automatic</td>\n",
       "      <td>white</td>\n",
       "      <td>NaN</td>\n",
       "      <td>FAILED</td>\n",
       "    </tr>\n",
       "    <tr>\n",
       "      <th>12</th>\n",
       "      <td>soo</td>\n",
       "      <td>21695</td>\n",
       "      <td>2016.0</td>\n",
       "      <td>hyundai</td>\n",
       "      <td>4 cylinders</td>\n",
       "      <td>gas</td>\n",
       "      <td>44814.0</td>\n",
       "      <td>other</td>\n",
       "      <td>white</td>\n",
       "      <td>NaN</td>\n",
       "      <td>FAILED</td>\n",
       "    </tr>\n",
       "    <tr>\n",
       "      <th>13</th>\n",
       "      <td>soo</td>\n",
       "      <td>18000</td>\n",
       "      <td>2011.0</td>\n",
       "      <td>chevrolet</td>\n",
       "      <td>6 cylinders</td>\n",
       "      <td>gas</td>\n",
       "      <td>NaN</td>\n",
       "      <td>manual</td>\n",
       "      <td>green</td>\n",
       "      <td>NaN</td>\n",
       "      <td>FAILED</td>\n",
       "    </tr>\n",
       "    <tr>\n",
       "      <th>14</th>\n",
       "      <td>soo</td>\n",
       "      <td>29000</td>\n",
       "      <td>2016.0</td>\n",
       "      <td>hyundai</td>\n",
       "      <td>6 cylinders</td>\n",
       "      <td>gas</td>\n",
       "      <td>31500.0</td>\n",
       "      <td>automatic</td>\n",
       "      <td>black</td>\n",
       "      <td>NaN</td>\n",
       "      <td>FAILED</td>\n",
       "    </tr>\n",
       "    <tr>\n",
       "      <th>15</th>\n",
       "      <td>soo</td>\n",
       "      <td>4500</td>\n",
       "      <td>2010.0</td>\n",
       "      <td>chev</td>\n",
       "      <td>4 cylinders</td>\n",
       "      <td>gas</td>\n",
       "      <td>103456.0</td>\n",
       "      <td>automatic</td>\n",
       "      <td>black</td>\n",
       "      <td>NaN</td>\n",
       "      <td>FAILED</td>\n",
       "    </tr>\n",
       "    <tr>\n",
       "      <th>16</th>\n",
       "      <td>whistler</td>\n",
       "      <td>9865</td>\n",
       "      <td>2006.0</td>\n",
       "      <td>honda</td>\n",
       "      <td>4 cylinders</td>\n",
       "      <td>gas</td>\n",
       "      <td>193599.0</td>\n",
       "      <td>automatic</td>\n",
       "      <td>blue</td>\n",
       "      <td>NaN</td>\n",
       "      <td>FAILED</td>\n",
       "    </tr>\n",
       "    <tr>\n",
       "      <th>17</th>\n",
       "      <td>whistler</td>\n",
       "      <td>41896</td>\n",
       "      <td>2017.0</td>\n",
       "      <td>ram</td>\n",
       "      <td>8 cylinders</td>\n",
       "      <td>gas</td>\n",
       "      <td>38578.0</td>\n",
       "      <td>automatic</td>\n",
       "      <td>black</td>\n",
       "      <td>NaN</td>\n",
       "      <td>FAILED</td>\n",
       "    </tr>\n",
       "    <tr>\n",
       "      <th>18</th>\n",
       "      <td>whistler</td>\n",
       "      <td>44678</td>\n",
       "      <td>2017.0</td>\n",
       "      <td>acura</td>\n",
       "      <td>6 cylinders</td>\n",
       "      <td>gas</td>\n",
       "      <td>37230.0</td>\n",
       "      <td>automatic</td>\n",
       "      <td>grey</td>\n",
       "      <td>NaN</td>\n",
       "      <td>FAILED</td>\n",
       "    </tr>\n",
       "    <tr>\n",
       "      <th>19</th>\n",
       "      <td>whistler</td>\n",
       "      <td>32546</td>\n",
       "      <td>2016.0</td>\n",
       "      <td>bmw</td>\n",
       "      <td>4 cylinders</td>\n",
       "      <td>gas</td>\n",
       "      <td>39555.0</td>\n",
       "      <td>automatic</td>\n",
       "      <td>white</td>\n",
       "      <td>NaN</td>\n",
       "      <td>FAILED</td>\n",
       "    </tr>\n",
       "    <tr>\n",
       "      <th>20</th>\n",
       "      <td>whistler</td>\n",
       "      <td>30678</td>\n",
       "      <td>2016.0</td>\n",
       "      <td>acura</td>\n",
       "      <td>6 cylinders</td>\n",
       "      <td>gas</td>\n",
       "      <td>38556.0</td>\n",
       "      <td>automatic</td>\n",
       "      <td>grey</td>\n",
       "      <td>NaN</td>\n",
       "      <td>FAILED</td>\n",
       "    </tr>\n",
       "    <tr>\n",
       "      <th>21</th>\n",
       "      <td>whistler</td>\n",
       "      <td>26500</td>\n",
       "      <td>2018.0</td>\n",
       "      <td>kia</td>\n",
       "      <td>NaN</td>\n",
       "      <td>gas</td>\n",
       "      <td>41318.0</td>\n",
       "      <td>automatic</td>\n",
       "      <td>NaN</td>\n",
       "      <td>NaN</td>\n",
       "      <td>FAILED</td>\n",
       "    </tr>\n",
       "    <tr>\n",
       "      <th>22</th>\n",
       "      <td>whistler</td>\n",
       "      <td>31658</td>\n",
       "      <td>2016.0</td>\n",
       "      <td>acura</td>\n",
       "      <td>6 cylinders</td>\n",
       "      <td>gas</td>\n",
       "      <td>59770.0</td>\n",
       "      <td>automatic</td>\n",
       "      <td>black</td>\n",
       "      <td>NaN</td>\n",
       "      <td>FAILED</td>\n",
       "    </tr>\n",
       "    <tr>\n",
       "      <th>23</th>\n",
       "      <td>whistler</td>\n",
       "      <td>25997</td>\n",
       "      <td>2015.0</td>\n",
       "      <td>acura</td>\n",
       "      <td>6 cylinders</td>\n",
       "      <td>gas</td>\n",
       "      <td>86702.0</td>\n",
       "      <td>automatic</td>\n",
       "      <td>black</td>\n",
       "      <td>NaN</td>\n",
       "      <td>FAILED</td>\n",
       "    </tr>\n",
       "    <tr>\n",
       "      <th>24</th>\n",
       "      <td>whistler</td>\n",
       "      <td>26657</td>\n",
       "      <td>2015.0</td>\n",
       "      <td>acura</td>\n",
       "      <td>4 cylinders</td>\n",
       "      <td>gas</td>\n",
       "      <td>37363.0</td>\n",
       "      <td>automatic</td>\n",
       "      <td>black</td>\n",
       "      <td>NaN</td>\n",
       "      <td>FAILED</td>\n",
       "    </tr>\n",
       "    <tr>\n",
       "      <th>25</th>\n",
       "      <td>whistler</td>\n",
       "      <td>33678</td>\n",
       "      <td>2015.0</td>\n",
       "      <td>acura</td>\n",
       "      <td>6 cylinders</td>\n",
       "      <td>gas</td>\n",
       "      <td>84625.0</td>\n",
       "      <td>automatic</td>\n",
       "      <td>white</td>\n",
       "      <td>NaN</td>\n",
       "      <td>FAILED</td>\n",
       "    </tr>\n",
       "    <tr>\n",
       "      <th>26</th>\n",
       "      <td>whistler</td>\n",
       "      <td>31897</td>\n",
       "      <td>2014.0</td>\n",
       "      <td>honda</td>\n",
       "      <td>6 cylinders</td>\n",
       "      <td>gas</td>\n",
       "      <td>63324.0</td>\n",
       "      <td>automatic</td>\n",
       "      <td>white</td>\n",
       "      <td>NaN</td>\n",
       "      <td>FAILED</td>\n",
       "    </tr>\n",
       "    <tr>\n",
       "      <th>27</th>\n",
       "      <td>whistler</td>\n",
       "      <td>11423</td>\n",
       "      <td>2013.0</td>\n",
       "      <td>hyundai</td>\n",
       "      <td>4 cylinders</td>\n",
       "      <td>gas</td>\n",
       "      <td>130924.0</td>\n",
       "      <td>automatic</td>\n",
       "      <td>green</td>\n",
       "      <td>NaN</td>\n",
       "      <td>FAILED</td>\n",
       "    </tr>\n",
       "    <tr>\n",
       "      <th>28</th>\n",
       "      <td>whistler</td>\n",
       "      <td>23411</td>\n",
       "      <td>2013.0</td>\n",
       "      <td>acura</td>\n",
       "      <td>6 cylinders</td>\n",
       "      <td>gas</td>\n",
       "      <td>110704.0</td>\n",
       "      <td>automatic</td>\n",
       "      <td>grey</td>\n",
       "      <td>NaN</td>\n",
       "      <td>FAILED</td>\n",
       "    </tr>\n",
       "    <tr>\n",
       "      <th>29</th>\n",
       "      <td>whistler</td>\n",
       "      <td>24896</td>\n",
       "      <td>2012.0</td>\n",
       "      <td>volkswagen</td>\n",
       "      <td>6 cylinders</td>\n",
       "      <td>gas</td>\n",
       "      <td>94056.0</td>\n",
       "      <td>automatic</td>\n",
       "      <td>black</td>\n",
       "      <td>NaN</td>\n",
       "      <td>FAILED</td>\n",
       "    </tr>\n",
       "    <tr>\n",
       "      <th>30</th>\n",
       "      <td>whistler</td>\n",
       "      <td>24577</td>\n",
       "      <td>2012.0</td>\n",
       "      <td>acura</td>\n",
       "      <td>6 cylinders</td>\n",
       "      <td>gas</td>\n",
       "      <td>105030.0</td>\n",
       "      <td>automatic</td>\n",
       "      <td>grey</td>\n",
       "      <td>NaN</td>\n",
       "      <td>FAILED</td>\n",
       "    </tr>\n",
       "    <tr>\n",
       "      <th>31</th>\n",
       "      <td>whistler</td>\n",
       "      <td>19879</td>\n",
       "      <td>2011.0</td>\n",
       "      <td>honda</td>\n",
       "      <td>6 cylinders</td>\n",
       "      <td>gas</td>\n",
       "      <td>123780.0</td>\n",
       "      <td>automatic</td>\n",
       "      <td>grey</td>\n",
       "      <td>NaN</td>\n",
       "      <td>FAILED</td>\n",
       "    </tr>\n",
       "    <tr>\n",
       "      <th>43</th>\n",
       "      <td>whistler</td>\n",
       "      <td>8800</td>\n",
       "      <td>2007.0</td>\n",
       "      <td>nissan</td>\n",
       "      <td>NaN</td>\n",
       "      <td>gas</td>\n",
       "      <td>163000.0</td>\n",
       "      <td>automatic</td>\n",
       "      <td>NaN</td>\n",
       "      <td>NaN</td>\n",
       "      <td>FAILED</td>\n",
       "    </tr>\n",
       "    <tr>\n",
       "      <th>...</th>\n",
       "      <td>...</td>\n",
       "      <td>...</td>\n",
       "      <td>...</td>\n",
       "      <td>...</td>\n",
       "      <td>...</td>\n",
       "      <td>...</td>\n",
       "      <td>...</td>\n",
       "      <td>...</td>\n",
       "      <td>...</td>\n",
       "      <td>...</td>\n",
       "      <td>...</td>\n",
       "    </tr>\n",
       "    <tr>\n",
       "      <th>1723026</th>\n",
       "      <td>westky</td>\n",
       "      <td>4600</td>\n",
       "      <td>2009.0</td>\n",
       "      <td>chevrolet</td>\n",
       "      <td>NaN</td>\n",
       "      <td>gas</td>\n",
       "      <td>229000.0</td>\n",
       "      <td>automatic</td>\n",
       "      <td>NaN</td>\n",
       "      <td>Montgomery</td>\n",
       "      <td>Tennessee</td>\n",
       "    </tr>\n",
       "    <tr>\n",
       "      <th>1723027</th>\n",
       "      <td>westky</td>\n",
       "      <td>13000</td>\n",
       "      <td>2006.0</td>\n",
       "      <td>pontiac</td>\n",
       "      <td>NaN</td>\n",
       "      <td>gas</td>\n",
       "      <td>NaN</td>\n",
       "      <td>manual</td>\n",
       "      <td>NaN</td>\n",
       "      <td>Montgomery</td>\n",
       "      <td>Kansas</td>\n",
       "    </tr>\n",
       "    <tr>\n",
       "      <th>1723028</th>\n",
       "      <td>westky</td>\n",
       "      <td>5000</td>\n",
       "      <td>2003.0</td>\n",
       "      <td>ford</td>\n",
       "      <td>NaN</td>\n",
       "      <td>other</td>\n",
       "      <td>NaN</td>\n",
       "      <td>manual</td>\n",
       "      <td>NaN</td>\n",
       "      <td>Tom Green</td>\n",
       "      <td>Texas</td>\n",
       "    </tr>\n",
       "    <tr>\n",
       "      <th>1723029</th>\n",
       "      <td>westky</td>\n",
       "      <td>8350</td>\n",
       "      <td>2008.0</td>\n",
       "      <td>cadillac</td>\n",
       "      <td>8 cylinders</td>\n",
       "      <td>gas</td>\n",
       "      <td>75325.0</td>\n",
       "      <td>automatic</td>\n",
       "      <td>black</td>\n",
       "      <td>Warrick</td>\n",
       "      <td>Indiana</td>\n",
       "    </tr>\n",
       "    <tr>\n",
       "      <th>1723030</th>\n",
       "      <td>westky</td>\n",
       "      <td>15000</td>\n",
       "      <td>2006.0</td>\n",
       "      <td>chevy</td>\n",
       "      <td>8 cylinders</td>\n",
       "      <td>diesel</td>\n",
       "      <td>86000.0</td>\n",
       "      <td>automatic</td>\n",
       "      <td>white</td>\n",
       "      <td>Knox</td>\n",
       "      <td>Indiana</td>\n",
       "    </tr>\n",
       "    <tr>\n",
       "      <th>1723032</th>\n",
       "      <td>westky</td>\n",
       "      <td>3500</td>\n",
       "      <td>2002.0</td>\n",
       "      <td>chevy</td>\n",
       "      <td>6 cylinders</td>\n",
       "      <td>gas</td>\n",
       "      <td>144000.0</td>\n",
       "      <td>automatic</td>\n",
       "      <td>NaN</td>\n",
       "      <td>Dyer</td>\n",
       "      <td>Tennessee</td>\n",
       "    </tr>\n",
       "    <tr>\n",
       "      <th>1723033</th>\n",
       "      <td>westky</td>\n",
       "      <td>1500</td>\n",
       "      <td>2005.0</td>\n",
       "      <td>nissan</td>\n",
       "      <td>NaN</td>\n",
       "      <td>gas</td>\n",
       "      <td>NaN</td>\n",
       "      <td>automatic</td>\n",
       "      <td>NaN</td>\n",
       "      <td>Montgomery</td>\n",
       "      <td>Tennessee</td>\n",
       "    </tr>\n",
       "    <tr>\n",
       "      <th>1723034</th>\n",
       "      <td>westky</td>\n",
       "      <td>7850</td>\n",
       "      <td>1999.0</td>\n",
       "      <td>ford</td>\n",
       "      <td>NaN</td>\n",
       "      <td>diesel</td>\n",
       "      <td>NaN</td>\n",
       "      <td>automatic</td>\n",
       "      <td>red</td>\n",
       "      <td>Weakley</td>\n",
       "      <td>Tennessee</td>\n",
       "    </tr>\n",
       "    <tr>\n",
       "      <th>1723036</th>\n",
       "      <td>westky</td>\n",
       "      <td>11000</td>\n",
       "      <td>1971.0</td>\n",
       "      <td>volkswagen</td>\n",
       "      <td>NaN</td>\n",
       "      <td>gas</td>\n",
       "      <td>NaN</td>\n",
       "      <td>manual</td>\n",
       "      <td>NaN</td>\n",
       "      <td>Obion</td>\n",
       "      <td>Tennessee</td>\n",
       "    </tr>\n",
       "    <tr>\n",
       "      <th>1723037</th>\n",
       "      <td>westky</td>\n",
       "      <td>3800</td>\n",
       "      <td>1999.0</td>\n",
       "      <td>gmc</td>\n",
       "      <td>8 cylinders</td>\n",
       "      <td>gas</td>\n",
       "      <td>NaN</td>\n",
       "      <td>automatic</td>\n",
       "      <td>white</td>\n",
       "      <td>Weakley</td>\n",
       "      <td>Tennessee</td>\n",
       "    </tr>\n",
       "    <tr>\n",
       "      <th>1723038</th>\n",
       "      <td>westky</td>\n",
       "      <td>13999</td>\n",
       "      <td>2013.0</td>\n",
       "      <td>gmc</td>\n",
       "      <td>NaN</td>\n",
       "      <td>gas</td>\n",
       "      <td>96048.0</td>\n",
       "      <td>automatic</td>\n",
       "      <td>NaN</td>\n",
       "      <td>Marion</td>\n",
       "      <td>Illinois</td>\n",
       "    </tr>\n",
       "    <tr>\n",
       "      <th>1723039</th>\n",
       "      <td>westky</td>\n",
       "      <td>22999</td>\n",
       "      <td>2013.0</td>\n",
       "      <td>ram</td>\n",
       "      <td>NaN</td>\n",
       "      <td>gas</td>\n",
       "      <td>120080.0</td>\n",
       "      <td>automatic</td>\n",
       "      <td>white</td>\n",
       "      <td>Marion</td>\n",
       "      <td>Illinois</td>\n",
       "    </tr>\n",
       "    <tr>\n",
       "      <th>1723040</th>\n",
       "      <td>westky</td>\n",
       "      <td>1600</td>\n",
       "      <td>2018.0</td>\n",
       "      <td>kia</td>\n",
       "      <td>NaN</td>\n",
       "      <td>gas</td>\n",
       "      <td>190.0</td>\n",
       "      <td>automatic</td>\n",
       "      <td>NaN</td>\n",
       "      <td>Vanderburgh</td>\n",
       "      <td>Indiana</td>\n",
       "    </tr>\n",
       "    <tr>\n",
       "      <th>1723043</th>\n",
       "      <td>westky</td>\n",
       "      <td>4500</td>\n",
       "      <td>1995.0</td>\n",
       "      <td>ford</td>\n",
       "      <td>NaN</td>\n",
       "      <td>gas</td>\n",
       "      <td>NaN</td>\n",
       "      <td>automatic</td>\n",
       "      <td>white</td>\n",
       "      <td>Weakley</td>\n",
       "      <td>Tennessee</td>\n",
       "    </tr>\n",
       "    <tr>\n",
       "      <th>1723044</th>\n",
       "      <td>westky</td>\n",
       "      <td>13500</td>\n",
       "      <td>1970.0</td>\n",
       "      <td>chevy</td>\n",
       "      <td>NaN</td>\n",
       "      <td>gas</td>\n",
       "      <td>NaN</td>\n",
       "      <td>automatic</td>\n",
       "      <td>NaN</td>\n",
       "      <td>Winnebago</td>\n",
       "      <td>Illinois</td>\n",
       "    </tr>\n",
       "    <tr>\n",
       "      <th>1723045</th>\n",
       "      <td>westky</td>\n",
       "      <td>7000</td>\n",
       "      <td>1995.0</td>\n",
       "      <td>jeep</td>\n",
       "      <td>4 cylinders</td>\n",
       "      <td>gas</td>\n",
       "      <td>160000.0</td>\n",
       "      <td>manual</td>\n",
       "      <td>NaN</td>\n",
       "      <td>Hamilton</td>\n",
       "      <td>Illinois</td>\n",
       "    </tr>\n",
       "    <tr>\n",
       "      <th>1723046</th>\n",
       "      <td>westky</td>\n",
       "      <td>2900</td>\n",
       "      <td>2003.0</td>\n",
       "      <td>ram</td>\n",
       "      <td>NaN</td>\n",
       "      <td>gas</td>\n",
       "      <td>NaN</td>\n",
       "      <td>automatic</td>\n",
       "      <td>NaN</td>\n",
       "      <td>Vanderburgh</td>\n",
       "      <td>Indiana</td>\n",
       "    </tr>\n",
       "    <tr>\n",
       "      <th>1723048</th>\n",
       "      <td>marshall</td>\n",
       "      <td>12500</td>\n",
       "      <td>2003.0</td>\n",
       "      <td>ram</td>\n",
       "      <td>8 cylinders</td>\n",
       "      <td>gas</td>\n",
       "      <td>71500.0</td>\n",
       "      <td>automatic</td>\n",
       "      <td>black</td>\n",
       "      <td>Le Sueur</td>\n",
       "      <td>Minnesota</td>\n",
       "    </tr>\n",
       "    <tr>\n",
       "      <th>1723049</th>\n",
       "      <td>marshall</td>\n",
       "      <td>18900</td>\n",
       "      <td>2008.0</td>\n",
       "      <td>ford</td>\n",
       "      <td>8 cylinders</td>\n",
       "      <td>diesel</td>\n",
       "      <td>117.0</td>\n",
       "      <td>automatic</td>\n",
       "      <td>silver</td>\n",
       "      <td>Nobles</td>\n",
       "      <td>Minnesota</td>\n",
       "    </tr>\n",
       "    <tr>\n",
       "      <th>1723050</th>\n",
       "      <td>marshall</td>\n",
       "      <td>6995</td>\n",
       "      <td>2012.0</td>\n",
       "      <td>ford</td>\n",
       "      <td>4 cylinders</td>\n",
       "      <td>gas</td>\n",
       "      <td>101343.0</td>\n",
       "      <td>automatic</td>\n",
       "      <td>NaN</td>\n",
       "      <td>Watonwan</td>\n",
       "      <td>Minnesota</td>\n",
       "    </tr>\n",
       "    <tr>\n",
       "      <th>1723051</th>\n",
       "      <td>marshall</td>\n",
       "      <td>7500</td>\n",
       "      <td>2003.0</td>\n",
       "      <td>chevy</td>\n",
       "      <td>NaN</td>\n",
       "      <td>gas</td>\n",
       "      <td>170000.0</td>\n",
       "      <td>automatic</td>\n",
       "      <td>NaN</td>\n",
       "      <td>Minnehaha</td>\n",
       "      <td>South Dakota</td>\n",
       "    </tr>\n",
       "    <tr>\n",
       "      <th>1723052</th>\n",
       "      <td>marshall</td>\n",
       "      <td>2900</td>\n",
       "      <td>2005.0</td>\n",
       "      <td>ford</td>\n",
       "      <td>NaN</td>\n",
       "      <td>gas</td>\n",
       "      <td>NaN</td>\n",
       "      <td>automatic</td>\n",
       "      <td>NaN</td>\n",
       "      <td>Minnehaha</td>\n",
       "      <td>South Dakota</td>\n",
       "    </tr>\n",
       "    <tr>\n",
       "      <th>1723053</th>\n",
       "      <td>westky</td>\n",
       "      <td>3000</td>\n",
       "      <td>1990.0</td>\n",
       "      <td>cadillac</td>\n",
       "      <td>8 cylinders</td>\n",
       "      <td>gas</td>\n",
       "      <td>152000.0</td>\n",
       "      <td>automatic</td>\n",
       "      <td>black</td>\n",
       "      <td>Weakley</td>\n",
       "      <td>Tennessee</td>\n",
       "    </tr>\n",
       "    <tr>\n",
       "      <th>1723054</th>\n",
       "      <td>westky</td>\n",
       "      <td>1850</td>\n",
       "      <td>1980.0</td>\n",
       "      <td>ford</td>\n",
       "      <td>NaN</td>\n",
       "      <td>gas</td>\n",
       "      <td>NaN</td>\n",
       "      <td>manual</td>\n",
       "      <td>NaN</td>\n",
       "      <td>Weakley</td>\n",
       "      <td>Tennessee</td>\n",
       "    </tr>\n",
       "    <tr>\n",
       "      <th>1723055</th>\n",
       "      <td>westky</td>\n",
       "      <td>4000</td>\n",
       "      <td>2005.0</td>\n",
       "      <td>nissan</td>\n",
       "      <td>4 cylinders</td>\n",
       "      <td>gas</td>\n",
       "      <td>189321.0</td>\n",
       "      <td>automatic</td>\n",
       "      <td>NaN</td>\n",
       "      <td>Hamilton</td>\n",
       "      <td>Illinois</td>\n",
       "    </tr>\n",
       "    <tr>\n",
       "      <th>1723056</th>\n",
       "      <td>marshall</td>\n",
       "      <td>33000</td>\n",
       "      <td>1957.0</td>\n",
       "      <td>chevy</td>\n",
       "      <td>8 cylinders</td>\n",
       "      <td>gas</td>\n",
       "      <td>11000.0</td>\n",
       "      <td>manual</td>\n",
       "      <td>red</td>\n",
       "      <td>Monmouth</td>\n",
       "      <td>New Jersey</td>\n",
       "    </tr>\n",
       "    <tr>\n",
       "      <th>1723059</th>\n",
       "      <td>marshall</td>\n",
       "      <td>69500</td>\n",
       "      <td>2013.0</td>\n",
       "      <td>ford</td>\n",
       "      <td>8 cylinders</td>\n",
       "      <td>diesel</td>\n",
       "      <td>155556.0</td>\n",
       "      <td>automatic</td>\n",
       "      <td>black</td>\n",
       "      <td>Hanson</td>\n",
       "      <td>South Dakota</td>\n",
       "    </tr>\n",
       "    <tr>\n",
       "      <th>1723061</th>\n",
       "      <td>marshall</td>\n",
       "      <td>6000</td>\n",
       "      <td>2005.0</td>\n",
       "      <td>chevy</td>\n",
       "      <td>8 cylinders</td>\n",
       "      <td>gas</td>\n",
       "      <td>NaN</td>\n",
       "      <td>automatic</td>\n",
       "      <td>NaN</td>\n",
       "      <td>Lincoln</td>\n",
       "      <td>South Dakota</td>\n",
       "    </tr>\n",
       "    <tr>\n",
       "      <th>1723063</th>\n",
       "      <td>marshall</td>\n",
       "      <td>4788</td>\n",
       "      <td>2009.0</td>\n",
       "      <td>toyota</td>\n",
       "      <td>4 cylinders</td>\n",
       "      <td>gas</td>\n",
       "      <td>210682.0</td>\n",
       "      <td>automatic</td>\n",
       "      <td>red</td>\n",
       "      <td>Dickinson</td>\n",
       "      <td>Iowa</td>\n",
       "    </tr>\n",
       "    <tr>\n",
       "      <th>1723064</th>\n",
       "      <td>marshall</td>\n",
       "      <td>2000</td>\n",
       "      <td>1980.0</td>\n",
       "      <td>lincoln</td>\n",
       "      <td>8 cylinders</td>\n",
       "      <td>gas</td>\n",
       "      <td>74978.0</td>\n",
       "      <td>automatic</td>\n",
       "      <td>blue</td>\n",
       "      <td>Lyon</td>\n",
       "      <td>Iowa</td>\n",
       "    </tr>\n",
       "  </tbody>\n",
       "</table>\n",
       "<p>1361323 rows × 11 columns</p>\n",
       "</div>"
      ],
      "text/plain": [
       "             city  price    year manufacturer    cylinders    fuel  odometer  \\\n",
       "0        marshall  11900  2010.0        dodge  6 cylinders     gas   43600.0   \n",
       "2        marshall  17550  2008.0         ford          NaN     gas       NaN   \n",
       "3        marshall   2800  2004.0         ford  6 cylinders     gas  168591.0   \n",
       "5        marshall   9900  2007.0          gmc  8 cylinders     gas  169000.0   \n",
       "6        marshall  12500  2015.0         jeep  4 cylinders     gas   39500.0   \n",
       "...           ...    ...     ...          ...          ...     ...       ...   \n",
       "1723056  marshall  33000  1957.0        chevy  8 cylinders     gas   11000.0   \n",
       "1723059  marshall  69500  2013.0         ford  8 cylinders  diesel  155556.0   \n",
       "1723061  marshall   6000  2005.0        chevy  8 cylinders     gas       NaN   \n",
       "1723063  marshall   4788  2009.0       toyota  4 cylinders     gas  210682.0   \n",
       "1723064  marshall   2000  1980.0      lincoln  8 cylinders     gas   74978.0   \n",
       "\n",
       "        transmission paint_color county_name    state_name  \n",
       "0          automatic         red     Lincoln  South Dakota  \n",
       "2          automatic         NaN       Meade  South Dakota  \n",
       "3          automatic        grey     Osceola          Iowa  \n",
       "5          automatic         NaN     Lincoln  South Dakota  \n",
       "6          automatic        grey   Minnehaha  South Dakota  \n",
       "...              ...         ...         ...           ...  \n",
       "1723056       manual         red    Monmouth    New Jersey  \n",
       "1723059    automatic       black      Hanson  South Dakota  \n",
       "1723061    automatic         NaN     Lincoln  South Dakota  \n",
       "1723063    automatic         red   Dickinson          Iowa  \n",
       "1723064    automatic        blue        Lyon          Iowa  \n",
       "\n",
       "[1361323 rows x 11 columns]"
      ]
     },
     "execution_count": 12,
     "metadata": {},
     "output_type": "execute_result"
    }
   ],
   "source": [
    "df.drop_duplicates()"
   ]
  },
  {
   "cell_type": "code",
   "execution_count": 13,
   "metadata": {},
   "outputs": [],
   "source": [
    "# 220021 values removed"
   ]
  },
  {
   "cell_type": "markdown",
   "metadata": {},
   "source": [
    "### Renaming some labels "
   ]
  },
  {
   "cell_type": "code",
   "execution_count": 14,
   "metadata": {},
   "outputs": [
    {
     "data": {
      "text/plain": [
       "array(['dodge', 'ford', 'gmc', 'jeep', 'bmw', 'chev', 'chevrolet',\n",
       "       'hyundai', 'honda', 'ram', 'acura', 'kia', 'volkswagen', 'nissan',\n",
       "       'audi', 'mercedes-benz', 'subaru', 'chrysler', 'toyota', 'rover',\n",
       "       'mazda', 'chevy', 'cadillac', 'mercedes', 'infiniti', 'lexus',\n",
       "       'mini', 'saturn', 'vw', 'lincoln', 'mitsubishi', 'buick',\n",
       "       'mercury', 'fiat', 'pontiac', 'volvo', 'jaguar', 'datsun',\n",
       "       'infinity', 'ferrari', 'harley', 'alfa', 'porche', 'noble',\n",
       "       'land rover', 'landrover', 'harley-davidson', 'alfa-romeo',\n",
       "       'mercedesbenz', 'aston', 'aston-martin', 'morgan', 'hennessey'],\n",
       "      dtype=object)"
      ]
     },
     "execution_count": 14,
     "metadata": {},
     "output_type": "execute_result"
    }
   ],
   "source": [
    "df['manufacturer'].unique()"
   ]
  },
  {
   "cell_type": "code",
   "execution_count": 15,
   "metadata": {},
   "outputs": [],
   "source": [
    "df['manufacturer'] = df['manufacturer'].replace({'chev': 'chevrolet', \n",
    "                                                 'vw': 'volkswagen', 'infinity': 'infiniti', \n",
    "                                                 'land rover': 'rover', 'landrover':'rover',\n",
    "                                                'aston':'aston-martin', 'mercedesbenz':'mercedes-benz',\n",
    "                                                 'mercedes':'mercedes-benz','alfa':'alfa-romeo','chevy':'chevrolet'\n",
    "                                                })"
   ]
  },
  {
   "cell_type": "code",
   "execution_count": 16,
   "metadata": {},
   "outputs": [
    {
     "data": {
      "text/plain": [
       "array(['dodge', 'ford', 'gmc', 'jeep', 'bmw', 'chevrolet', 'hyundai',\n",
       "       'honda', 'ram', 'acura', 'kia', 'volkswagen', 'nissan', 'audi',\n",
       "       'mercedes-benz', 'subaru', 'chrysler', 'toyota', 'rover', 'mazda',\n",
       "       'cadillac', 'infiniti', 'lexus', 'mini', 'saturn', 'lincoln',\n",
       "       'mitsubishi', 'buick', 'mercury', 'fiat', 'pontiac', 'volvo',\n",
       "       'jaguar', 'datsun', 'ferrari', 'harley', 'alfa-romeo', 'porche',\n",
       "       'noble', 'harley-davidson', 'aston-martin', 'morgan', 'hennessey'],\n",
       "      dtype=object)"
      ]
     },
     "execution_count": 16,
     "metadata": {},
     "output_type": "execute_result"
    }
   ],
   "source": [
    "df['manufacturer'].unique()"
   ]
  },
  {
   "cell_type": "code",
   "execution_count": 17,
   "metadata": {},
   "outputs": [],
   "source": [
    "df.drop( df[ df['manufacturer'] == 'harley'].index , inplace=True)\n",
    "#Harley is not a car"
   ]
  },
  {
   "cell_type": "code",
   "execution_count": 18,
   "metadata": {},
   "outputs": [],
   "source": [
    "df.drop( df[ df['manufacturer'] == 'harley-davidson'].index , inplace=True)\n",
    "#Harley-davidson is not a car"
   ]
  },
  {
   "cell_type": "code",
   "execution_count": 19,
   "metadata": {},
   "outputs": [
    {
     "data": {
      "text/plain": [
       "(1580504, 11)"
      ]
     },
     "execution_count": 19,
     "metadata": {},
     "output_type": "execute_result"
    }
   ],
   "source": [
    "df.shape"
   ]
  },
  {
   "cell_type": "markdown",
   "metadata": {},
   "source": [
    "## Explorig numerical data Years & Price "
   ]
  },
  {
   "cell_type": "code",
   "execution_count": 20,
   "metadata": {},
   "outputs": [
    {
     "data": {
      "text/plain": [
       "<matplotlib.axes._subplots.AxesSubplot at 0x11946e90>"
      ]
     },
     "execution_count": 20,
     "metadata": {},
     "output_type": "execute_result"
    },
    {
     "data": {
      "image/png": "[encoded data removed]",
      "text/plain": [
       "<Figure size 720x1080 with 2 Axes>"
      ]
     },
     "metadata": {
      "needs_background": "light"
     },
     "output_type": "display_data"
    }
   ],
   "source": [
    "plt.figure(figsize=(10,15))\n",
    "plt.subplot(1,2,1)\n",
    "sns.boxplot(y='year', data=df)\n",
    "plt.subplot(1,2,2)\n",
    "sns.violinplot(y='year', data=df)"
   ]
  },
  {
   "cell_type": "markdown",
   "metadata": {},
   "source": [
    "Seems worth to get rid of cars older than 1960"
   ]
  },
  {
   "cell_type": "markdown",
   "metadata": {},
   "source": [
    "### Removing cars older than 1960 "
   ]
  },
  {
   "cell_type": "code",
   "execution_count": 21,
   "metadata": {},
   "outputs": [],
   "source": [
    "df = df[df['year'] > 1960] #Keeping only cars older than 1960 make"
   ]
  },
  {
   "cell_type": "code",
   "execution_count": 22,
   "metadata": {},
   "outputs": [
    {
     "data": {
      "text/plain": [
       "<matplotlib.axes._subplots.AxesSubplot at 0x11d37630>"
      ]
     },
     "execution_count": 22,
     "metadata": {},
     "output_type": "execute_result"
    },
    {
     "data": {
      "image/png": "[encoded data removed]",
      "text/plain": [
       "<Figure size 720x1080 with 2 Axes>"
      ]
     },
     "metadata": {
      "needs_background": "light"
     },
     "output_type": "display_data"
    }
   ],
   "source": [
    "plt.figure(figsize=(10,15))\n",
    "plt.subplot(1,2,1)\n",
    "sns.boxplot(y='year', data=df)\n",
    "plt.subplot(1,2,2)\n",
    "sns.violinplot(y='year', data=df)"
   ]
  },
  {
   "cell_type": "code",
   "execution_count": 23,
   "metadata": {},
   "outputs": [
    {
     "data": {
      "text/plain": [
       "(1562661, 11)"
      ]
     },
     "execution_count": 23,
     "metadata": {},
     "output_type": "execute_result"
    }
   ],
   "source": [
    "df.shape"
   ]
  },
  {
   "cell_type": "markdown",
   "metadata": {},
   "source": [
    "#### 1,562,563 Cars left in dataset"
   ]
  },
  {
   "cell_type": "markdown",
   "metadata": {},
   "source": [
    "## Price range illustration using Boxplot"
   ]
  },
  {
   "cell_type": "code",
   "execution_count": 24,
   "metadata": {},
   "outputs": [
    {
     "data": {
      "text/plain": [
       "<matplotlib.axes._subplots.AxesSubplot at 0x14507e70>"
      ]
     },
     "execution_count": 24,
     "metadata": {},
     "output_type": "execute_result"
    },
    {
     "data": {
      "image/png": "[encoded data removed]",
      "text/plain": [
       "<Figure size 720x1080 with 2 Axes>"
      ]
     },
     "metadata": {
      "needs_background": "light"
     },
     "output_type": "display_data"
    }
   ],
   "source": [
    "plt.figure(figsize=(10,15))\n",
    "plt.subplot(1,2,1)\n",
    "sns.boxplot(y='price', data=df, ) #showfliers=False\n",
    "plt.subplot(1,2,2)\n",
    "sns.violinplot(y='price', data=df, ) #showfliers=False"
   ]
  },
  {
   "cell_type": "markdown",
   "metadata": {},
   "source": [
    "Seems too many outliers, reducing size to keep only cars < $500,000"
   ]
  },
  {
   "cell_type": "code",
   "execution_count": 25,
   "metadata": {},
   "outputs": [],
   "source": [
    "#Getting rid of outlicers above 500,000$ \n",
    "df = df[df['price'] < 500000]"
   ]
  },
  {
   "cell_type": "code",
   "execution_count": 26,
   "metadata": {},
   "outputs": [
    {
     "data": {
      "text/plain": [
       "(1562052, 11)"
      ]
     },
     "execution_count": 26,
     "metadata": {},
     "output_type": "execute_result"
    }
   ],
   "source": [
    "df.shape"
   ]
  },
  {
   "cell_type": "markdown",
   "metadata": {},
   "source": [
    "### Price range of cars below $500,000"
   ]
  },
  {
   "cell_type": "code",
   "execution_count": 27,
   "metadata": {},
   "outputs": [
    {
     "data": {
      "text/plain": [
       "<matplotlib.axes._subplots.AxesSubplot at 0x145654f0>"
      ]
     },
     "execution_count": 27,
     "metadata": {},
     "output_type": "execute_result"
    },
    {
     "data": {
      "image/png": "[encoded data removed]",
      "text/plain": [
       "<Figure size 720x1080 with 2 Axes>"
      ]
     },
     "metadata": {
      "needs_background": "light"
     },
     "output_type": "display_data"
    }
   ],
   "source": [
    "plt.figure(figsize=(10,15))\n",
    "plt.subplot(1,2,1)\n",
    "sns.boxplot(y='price', data=df, ) #showfliers=False ) \n",
    "plt.subplot(1,2,2)\n",
    "sns.violinplot(y='price', data=df,) #showfliers=False) "
   ]
  },
  {
   "cell_type": "code",
   "execution_count": 28,
   "metadata": {},
   "outputs": [
    {
     "data": {
      "text/plain": [
       "(1562052, 11)"
      ]
     },
     "execution_count": 28,
     "metadata": {},
     "output_type": "execute_result"
    }
   ],
   "source": [
    "df.shape"
   ]
  },
  {
   "cell_type": "markdown",
   "metadata": {},
   "source": [
    "Still seems to be too many outliers, will keep only cars below $100,000"
   ]
  },
  {
   "cell_type": "code",
   "execution_count": 29,
   "metadata": {},
   "outputs": [
    {
     "data": {
      "text/plain": [
       "(1560848, 11)"
      ]
     },
     "execution_count": 29,
     "metadata": {},
     "output_type": "execute_result"
    }
   ],
   "source": [
    "df = df[df['price'] < 100000] #Keeping only cars older than 1960 make\n",
    "df.shape"
   ]
  },
  {
   "cell_type": "markdown",
   "metadata": {},
   "source": [
    "### Price range of cars below $100,000"
   ]
  },
  {
   "cell_type": "code",
   "execution_count": 30,
   "metadata": {},
   "outputs": [
    {
     "data": {
      "text/plain": [
       "<matplotlib.axes._subplots.AxesSubplot at 0x3d01ae50>"
      ]
     },
     "execution_count": 30,
     "metadata": {},
     "output_type": "execute_result"
    },
    {
     "data": {
      "image/png": "[encoded data removed]",
      "text/plain": [
       "<Figure size 720x1080 with 2 Axes>"
      ]
     },
     "metadata": {
      "needs_background": "light"
     },
     "output_type": "display_data"
    }
   ],
   "source": [
    "plt.figure(figsize=(10,15))\n",
    "plt.subplot(1,2,1)\n",
    "sns.boxplot(y='price', data=df, ) #showfliers=False ) \n",
    "plt.subplot(1,2,2)\n",
    "sns.violinplot(y='price', data=df,) #showfliers=False) "
   ]
  },
  {
   "cell_type": "markdown",
   "metadata": {},
   "source": [
    "### Cars quantities by city"
   ]
  },
  {
   "cell_type": "code",
   "execution_count": 31,
   "metadata": {},
   "outputs": [],
   "source": [
    "cities = df['city'].value_counts()"
   ]
  },
  {
   "cell_type": "code",
   "execution_count": 32,
   "metadata": {},
   "outputs": [
    {
     "data": {
      "text/plain": [
       "469"
      ]
     },
     "execution_count": 32,
     "metadata": {},
     "output_type": "execute_result"
    }
   ],
   "source": [
    "cities.count()"
   ]
  },
  {
   "cell_type": "code",
   "execution_count": 33,
   "metadata": {},
   "outputs": [
    {
     "data": {
      "text/plain": [
       "Text(0.5, 1.0, 'Used cars for sale by City, US')"
      ]
     },
     "execution_count": 33,
     "metadata": {},
     "output_type": "execute_result"
    },
    {
     "data": {
      "image/png": "[encoded data removed]",
      "text/plain": [
       "<Figure size 1440x720 with 1 Axes>"
      ]
     },
     "metadata": {
      "needs_background": "light"
     },
     "output_type": "display_data"
    }
   ],
   "source": [
    "plt.figure(figsize=(20,10))\n",
    "#sns.countplot(cities)\n",
    "ax = sns.countplot(x='city',data=df,order=df['city'].value_counts().index);\n",
    "ax.set_xticklabels(ax.get_xticklabels(), fontsize=0);\n",
    "ax.set_title('Used cars for sale by City, US', fontsize=20)"
   ]
  },
  {
   "cell_type": "markdown",
   "metadata": {},
   "source": [
    "### Top 10 cities with most cars"
   ]
  },
  {
   "cell_type": "code",
   "execution_count": 34,
   "metadata": {},
   "outputs": [
    {
     "data": {
      "text/plain": [
       "cosprings      7749\n",
       "grandrapids    7671\n",
       "anchorage      7662\n",
       "sacramento     7559\n",
       "omaha          7479\n",
       "vancouver      7475\n",
       "boise          7474\n",
       "sfbay          7462\n",
       "nashville      7421\n",
       "orlando        7361\n",
       "Name: city, dtype: int64"
      ]
     },
     "execution_count": 34,
     "metadata": {},
     "output_type": "execute_result"
    }
   ],
   "source": [
    "cities.head(10)"
   ]
  },
  {
   "cell_type": "markdown",
   "metadata": {},
   "source": [
    "### Cars quantities by state"
   ]
  },
  {
   "cell_type": "code",
   "execution_count": 35,
   "metadata": {},
   "outputs": [
    {
     "data": {
      "text/plain": [
       "52"
      ]
     },
     "execution_count": 35,
     "metadata": {},
     "output_type": "execute_result"
    }
   ],
   "source": [
    "states = df['state_name'].value_counts()\n",
    "states.count()"
   ]
  },
  {
   "cell_type": "code",
   "execution_count": 36,
   "metadata": {
    "scrolled": true
   },
   "outputs": [
    {
     "data": {
      "text/plain": [
       "California    139336\n",
       "Florida       100410\n",
       "Texas          87308\n",
       "Michigan       73210\n",
       "New York       64278\n",
       "Name: state_name, dtype: int64"
      ]
     },
     "execution_count": 36,
     "metadata": {},
     "output_type": "execute_result"
    }
   ],
   "source": [
    "states.head()"
   ]
  },
  {
   "cell_type": "code",
   "execution_count": 37,
   "metadata": {},
   "outputs": [
    {
     "data": {
      "text/plain": [
       "Text(0.5, 1.0, 'Used Cars for sale by state, US')"
      ]
     },
     "execution_count": 37,
     "metadata": {},
     "output_type": "execute_result"
    },
    {
     "data": {
      "image/png": "[encoded data removed]",
      "text/plain": [
       "<Figure size 1440x720 with 1 Axes>"
      ]
     },
     "metadata": {
      "needs_background": "light"
     },
     "output_type": "display_data"
    }
   ],
   "source": [
    "plt.figure(figsize=(20,10))\n",
    "ax = sns.countplot(x='state_name',data=df,order=df['state_name'].value_counts().index);\n",
    "ax.set_xticklabels(ax.get_xticklabels(), rotation=90, fontsize=15);\n",
    "ax.set_title(\"Used Cars for sale by state, US\", fontsize=20)"
   ]
  },
  {
   "cell_type": "markdown",
   "metadata": {},
   "source": [
    "### Car manufacture years on sale "
   ]
  },
  {
   "cell_type": "code",
   "execution_count": 38,
   "metadata": {},
   "outputs": [
    {
     "data": {
      "image/png": "[encoded data removed]",
      "text/plain": [
       "<Figure size 1440x720 with 1 Axes>"
      ]
     },
     "metadata": {
      "needs_background": "light"
     },
     "output_type": "display_data"
    }
   ],
   "source": [
    "plt.figure(figsize=(20,10))\n",
    "ax = sns.countplot(x='year',data=df,) #order=df.year.value_counts().iloc[:-50].index);\n",
    "ax.set_xticklabels(ax.get_xticklabels(), rotation=90, ha=\"right\",fontsize=15);"
   ]
  },
  {
   "cell_type": "markdown",
   "metadata": {},
   "source": [
    "### Top car manufacturers"
   ]
  },
  {
   "cell_type": "code",
   "execution_count": 39,
   "metadata": {},
   "outputs": [
    {
     "data": {
      "image/png": "[encoded data removed]",
      "text/plain": [
       "<Figure size 1440x720 with 1 Axes>"
      ]
     },
     "metadata": {
      "needs_background": "light"
     },
     "output_type": "display_data"
    }
   ],
   "source": [
    "plt.figure(figsize=(20,10))\n",
    "ax = sns.countplot(x='manufacturer',data=df, order=df.manufacturer.value_counts().index);\n",
    "ax.set_xticklabels(ax.get_xticklabels(), rotation=90, ha=\"right\",fontsize=15);"
   ]
  },
  {
   "cell_type": "code",
   "execution_count": 40,
   "metadata": {
    "scrolled": true
   },
   "outputs": [
    {
     "data": {
      "text/plain": [
       "ford         284134\n",
       "chevrolet    254060\n",
       "toyota       116207\n",
       "honda         89227\n",
       "nissan        79722\n",
       "dodge         74825\n",
       "jeep          74201\n",
       "gmc           69282\n",
       "ram           56624\n",
       "bmw           43207\n",
       "Name: manufacturer, dtype: int64"
      ]
     },
     "execution_count": 40,
     "metadata": {},
     "output_type": "execute_result"
    }
   ],
   "source": [
    "df['manufacturer'].value_counts().head(10)"
   ]
  },
  {
   "cell_type": "markdown",
   "metadata": {},
   "source": [
    "### Car manufacturers avg price per car"
   ]
  },
  {
   "cell_type": "code",
   "execution_count": 41,
   "metadata": {},
   "outputs": [
    {
     "data": {
      "text/plain": [
       "Text(0.5, 1.0, 'Manufacturers avg price per car')"
      ]
     },
     "execution_count": 41,
     "metadata": {},
     "output_type": "execute_result"
    },
    {
     "data": {
      "image/png": "[encoded data removed]",
      "text/plain": [
       "<Figure size 1440x720 with 1 Axes>"
      ]
     },
     "metadata": {
      "needs_background": "light"
     },
     "output_type": "display_data"
    }
   ],
   "source": [
    "plt.figure(figsize=(20,10))\n",
    "ax = sns.barplot(x='manufacturer', y='price', data=df);\n",
    "ax.set_xticklabels(ax.get_xticklabels(), rotation=90, ha=\"right\",fontsize=15);\n",
    "ax.set_title('Manufacturers avg price per car', fontsize=20)"
   ]
  },
  {
   "cell_type": "markdown",
   "metadata": {},
   "source": [
    "### Car avg price per car manufacturing year"
   ]
  },
  {
   "cell_type": "code",
   "execution_count": null,
   "metadata": {},
   "outputs": [],
   "source": [
    "plt.figure(figsize=(20,10))\n",
    "ax = sns.barplot(x='year', y='price', data=df);\n",
    "ax.set_xticklabels(ax.get_xticklabels(), rotation=90, ha=\"right\",fontsize=15);\n",
    "ax.set_title('Cars avg price per year of production')"
   ]
  },
  {
   "cell_type": "markdown",
   "metadata": {},
   "source": [
    "### Top car colours"
   ]
  },
  {
   "cell_type": "code",
   "execution_count": null,
   "metadata": {},
   "outputs": [],
   "source": [
    "plt.figure(figsize=(20,10))\n",
    "ax = sns.countplot(x='paint_color',data=df,order=df['paint_color'].value_counts().index);\n",
    "ax.set_xticklabels(ax.get_xticklabels(), rotation=90, fontsize=15);\n",
    "ax.set_title(\"Top colors for used cars, US\", fontsize=20)"
   ]
  },
  {
   "cell_type": "markdown",
   "metadata": {},
   "source": [
    "### Avg prices per colors"
   ]
  },
  {
   "cell_type": "code",
   "execution_count": null,
   "metadata": {},
   "outputs": [],
   "source": [
    "plt.figure(figsize=(20,10))\n",
    "ax = sns.barplot(x='paint_color', y='price', data=df);\n",
    "ax.set_xticklabels(ax.get_xticklabels(), rotation=90, ha=\"right\",fontsize=15);\n",
    "ax.set_label('Avg price per color')"
   ]
  },
  {
   "cell_type": "markdown",
   "metadata": {},
   "source": [
    "### Cars by transmission type"
   ]
  },
  {
   "cell_type": "code",
   "execution_count": null,
   "metadata": {},
   "outputs": [],
   "source": [
    "plt.figure(figsize=(20,10))\n",
    "df['transmission'].value_counts().plot.pie(autopct='%.2f', fontsize=15).set_title(\"Cars by Transmission type\", fontsize=18 )"
   ]
  },
  {
   "cell_type": "markdown",
   "metadata": {},
   "source": [
    "### Odometer data (In Miles)"
   ]
  },
  {
   "cell_type": "code",
   "execution_count": null,
   "metadata": {},
   "outputs": [],
   "source": [
    "plt.figure(figsize=(10,15))\n",
    "plt.subplot(1,2,1)\n",
    "sns.boxplot(y='odometer', data=df, showfliers=False) # ) \n",
    "plt.subplot(1,2,2)\n",
    "sns.violinplot(y='odometer', data=df, showfliers=False) #) "
   ]
  },
  {
   "cell_type": "markdown",
   "metadata": {},
   "source": [
    "### Feature Engineering Foreign vs American"
   ]
  },
  {
   "cell_type": "code",
   "execution_count": null,
   "metadata": {},
   "outputs": [],
   "source": [
    "americancars = ['dodge', 'chevrolet','ram','ford', 'chrysler', 'saturn', 'gmc', 'cadillac',  'lincoln', 'buick', 'mercury','jeep', ]    \n",
    "    \n",
    "def alocation(x):\n",
    "    if x in americancars:\n",
    "        return \"Local\"\n",
    "    else:\n",
    "        return 'Foreign'"
   ]
  },
  {
   "cell_type": "code",
   "execution_count": null,
   "metadata": {},
   "outputs": [],
   "source": [
    "df['Foreign vs Local'] = df['manufacturer'].apply(alocation)"
   ]
  },
  {
   "cell_type": "code",
   "execution_count": null,
   "metadata": {},
   "outputs": [],
   "source": [
    "plt.figure(figsize=(20,10))\n",
    "df['Foreign vs Local'].value_counts().plot.pie(autopct='%.2f', fontsize=15).set_title(\"Local cars % vs Foreign cars %\", fontsize=18 )"
   ]
  },
  {
   "cell_type": "markdown",
   "metadata": {},
   "source": [
    "# Questions to answer\n",
    "\n",
    "1. Plot dots of listing on a map, usint long/lat? -\n",
    "2. Price range illustration using Boxplot? To see preliminary highs, lows and averages \n",
    "3. Illustarte cars count by cities (SNS.countplot)\n",
    "3b. Cars by state?\n",
    "4. Car manufacturing year counts/yaars (SNS countplot)\n",
    "4b. Manufacturing year/avgs prices\n",
    "5. Car count/manufacturer (sns.countplot)\n",
    "6. Car manufacturer/average price\n",
    "7. American vs Foreign cars/ by states.\n",
    "8. Vehicles colour counts\n",
    "9. Avg. vehicle prices per color?\n",
    "10. Cars by gear type in %? Are automatic or Manual more popular?\n",
    "11. Odometer statistics, averages? \n",
    "\n",
    "\n",
    "\n",
    "Missing data?+\n",
    "Duplicates??+-\n",
    "Corrupted Data?? +-\n",
    "Outliers? Get rid of them and why? +\n",
    "What features are existing?+\n",
    "Can we engineer some data?+\n",
    "Dates are good source, day of week, hours, months etc? (N/A)\n",
    "\n",
    "\n",
    "Correlation between variables? Maybe some need to be excluded?\n",
    "ML model will give a slight bonus (Which ML model to use for price prediction?) "
   ]
  },
  {
   "cell_type": "markdown",
   "metadata": {},
   "source": [
    "### Applying ML to predict car prices"
   ]
  },
  {
   "cell_type": "code",
   "execution_count": null,
   "metadata": {},
   "outputs": [],
   "source": [
    "#Choosing right features for price prediction\n",
    "df.head()"
   ]
  },
  {
   "cell_type": "code",
   "execution_count": null,
   "metadata": {},
   "outputs": [],
   "source": [
    "# features = ['year','manufacturer','cylinders','fuel','odometer', 'transmission']"
   ]
  },
  {
   "cell_type": "markdown",
   "metadata": {},
   "source": [
    "#### Removing instances where any of the values is missing in the selected features - because it's important in price prediction."
   ]
  },
  {
   "cell_type": "code",
   "execution_count": null,
   "metadata": {},
   "outputs": [],
   "source": [
    "df.isnull().sum()"
   ]
  },
  {
   "cell_type": "code",
   "execution_count": null,
   "metadata": {},
   "outputs": [],
   "source": [
    "df = df.dropna(subset=['cylinders','fuel','odometer','transmission'])\n",
    "df.shape #762,552 still decent data size"
   ]
  },
  {
   "cell_type": "markdown",
   "metadata": {},
   "source": [
    "#### Turninig some categorical values to numericals with One Hot encoding"
   ]
  },
  {
   "cell_type": "markdown",
   "metadata": {},
   "source": [
    "### Fuel"
   ]
  },
  {
   "cell_type": "code",
   "execution_count": null,
   "metadata": {},
   "outputs": [],
   "source": [
    "df['fuel'].unique()"
   ]
  },
  {
   "cell_type": "code",
   "execution_count": null,
   "metadata": {},
   "outputs": [],
   "source": [
    "#Drop others\n",
    "df.drop( df[ df['fuel'] == 'other'].index , inplace=True)"
   ]
  },
  {
   "cell_type": "code",
   "execution_count": null,
   "metadata": {},
   "outputs": [],
   "source": [
    "df['fuel'].unique()"
   ]
  },
  {
   "cell_type": "code",
   "execution_count": null,
   "metadata": {},
   "outputs": [],
   "source": [
    "# Assign numerical values to 4 types (One Hot Encoding, using Pandas)\n",
    "df['fuel'] = pd.Categorical(df['fuel'])"
   ]
  },
  {
   "cell_type": "code",
   "execution_count": null,
   "metadata": {},
   "outputs": [],
   "source": [
    "dfDummies = pd.get_dummies(df['fuel'], prefix = 'fuel')"
   ]
  },
  {
   "cell_type": "code",
   "execution_count": null,
   "metadata": {},
   "outputs": [],
   "source": [
    "dfDummies.head()"
   ]
  },
  {
   "cell_type": "code",
   "execution_count": null,
   "metadata": {},
   "outputs": [],
   "source": [
    "df = pd.concat([df, dfDummies], axis=1)\n",
    "df.head()"
   ]
  },
  {
   "cell_type": "markdown",
   "metadata": {},
   "source": [
    "### Transmission"
   ]
  },
  {
   "cell_type": "code",
   "execution_count": null,
   "metadata": {},
   "outputs": [],
   "source": [
    "#drop instances with value - Other\n",
    "#Turn automatic - 1, Manual - 2\n",
    "df['transmission'].unique()"
   ]
  },
  {
   "cell_type": "code",
   "execution_count": null,
   "metadata": {},
   "outputs": [],
   "source": [
    "#Drop other\n",
    "df.drop( df[ df['transmission'] == 'other'].index , inplace=True)"
   ]
  },
  {
   "cell_type": "code",
   "execution_count": null,
   "metadata": {},
   "outputs": [],
   "source": [
    "df['transmission'].unique()"
   ]
  },
  {
   "cell_type": "code",
   "execution_count": null,
   "metadata": {},
   "outputs": [],
   "source": [
    "df['transmission'] = pd.Categorical(df['transmission'])\n",
    "dfDummies2 = pd.get_dummies(df['transmission'], prefix = 'transmission')\n",
    "df = pd.concat([df, dfDummies2], axis=1)\n",
    "df.head()"
   ]
  },
  {
   "cell_type": "markdown",
   "metadata": {},
   "source": [
    "### Cylinders"
   ]
  },
  {
   "cell_type": "code",
   "execution_count": null,
   "metadata": {},
   "outputs": [],
   "source": [
    "df['cylinders'] = df['cylinders'].map(lambda x: x.rstrip('cylinders'))\n",
    "df.head()"
   ]
  },
  {
   "cell_type": "code",
   "execution_count": null,
   "metadata": {},
   "outputs": [],
   "source": [
    "df['cylinders'].unique()"
   ]
  },
  {
   "cell_type": "code",
   "execution_count": null,
   "metadata": {},
   "outputs": [],
   "source": [
    "df.drop( df[ df['cylinders'] == 'oth'].index , inplace=True)"
   ]
  },
  {
   "cell_type": "code",
   "execution_count": null,
   "metadata": {},
   "outputs": [],
   "source": [
    "df['cylinders'].unique()"
   ]
  },
  {
   "cell_type": "code",
   "execution_count": null,
   "metadata": {},
   "outputs": [],
   "source": [
    "df['cylinders'] = df['cylinders'].astype(int)"
   ]
  },
  {
   "cell_type": "markdown",
   "metadata": {},
   "source": [
    "#### Manufacturers"
   ]
  },
  {
   "cell_type": "code",
   "execution_count": null,
   "metadata": {},
   "outputs": [],
   "source": [
    "#A lot of variations? Lets try prediction without this feature for now\n",
    "df['manufacturer'].unique()"
   ]
  },
  {
   "cell_type": "code",
   "execution_count": null,
   "metadata": {},
   "outputs": [],
   "source": [
    "df.head(10)"
   ]
  },
  {
   "cell_type": "code",
   "execution_count": null,
   "metadata": {},
   "outputs": [],
   "source": [
    "features = ['year','cylinders','odometer', 'fuel_diesel',\n",
    "            'fuel_electric', 'fuel_gas', 'fuel_hybrid','transmission_automatic', 'transmission_manual',]\n",
    "X = df[features]"
   ]
  },
  {
   "cell_type": "code",
   "execution_count": null,
   "metadata": {},
   "outputs": [],
   "source": [
    "#Price is piece we expect to predict\n",
    "y = df['price']"
   ]
  },
  {
   "cell_type": "code",
   "execution_count": null,
   "metadata": {},
   "outputs": [],
   "source": [
    "from sklearn.model_selection import train_test_split\n",
    "\n",
    "train_X, test_X, train_y, test_y = train_test_split(X, y, train_size=0.75, test_size=0.25, random_state=1) "
   ]
  },
  {
   "cell_type": "code",
   "execution_count": null,
   "metadata": {},
   "outputs": [],
   "source": [
    "from sklearn.neighbors import KNeighborsClassifier\n",
    "\n",
    "knn = KNeighborsClassifier()\n",
    "knn.fit(train_X,train_y)\n",
    "predictions = knn.predict(test_X)\n",
    "knn.score(test_X, test_y)\n",
    "#shows low score, but we don't expect high, as 100% accuracy in price doesnt matter, matters close one."
   ]
  },
  {
   "cell_type": "code",
   "execution_count": null,
   "metadata": {},
   "outputs": [],
   "source": [
    "knn.predict([[2009.0,6,58600.0,0,0,1,0,1,0]])"
   ]
  },
  {
   "cell_type": "code",
   "execution_count": null,
   "metadata": {},
   "outputs": [],
   "source": [
    "knn.predict([[2003.0,10,236000.0,0,0,1,0,1,0]])"
   ]
  },
  {
   "cell_type": "code",
   "execution_count": null,
   "metadata": {},
   "outputs": [],
   "source": []
  },
  {
   "cell_type": "code",
   "execution_count": null,
   "metadata": {},
   "outputs": [],
   "source": []
  },
  {
   "cell_type": "code",
   "execution_count": null,
   "metadata": {},
   "outputs": [],
   "source": []
  }
 ],
 "metadata": {
  "kernelspec": {
   "display_name": "Python 3",
   "language": "python",
   "name": "python3"
  },
  "language_info": {
   "codemirror_mode": {
    "name": "ipython",
    "version": 3
   },
   "file_extension": ".py",
   "mimetype": "text/x-python",
   "name": "python",
   "nbconvert_exporter": "python",
   "pygments_lexer": "ipython3",
   "version": "3.7.3"
  }
 },
 "nbformat": 4,
 "nbformat_minor": 2
}
